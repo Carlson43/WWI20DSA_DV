{
 "metadata": {
  "language_info": {
   "codemirror_mode": {
    "name": "ipython",
    "version": 3
   },
   "file_extension": ".py",
   "mimetype": "text/x-python",
   "name": "python",
   "nbconvert_exporter": "python",
   "pygments_lexer": "ipython3",
   "version": "3.8.7"
  },
  "orig_nbformat": 4,
  "kernelspec": {
   "name": "python3",
   "display_name": "Python 3.8.7 64-bit"
  },
  "interpreter": {
   "hash": "8ca06996e3193df3b381d85aee2d4d3369a534d3bb1c7cdff9d40f8ac16de6f6"
  }
 },
 "nbformat": 4,
 "nbformat_minor": 2,
 "cells": [
  {
   "source": [
    "## Eval B -Gruppe dreamT"
   ],
   "cell_type": "markdown",
   "metadata": {}
  },
  {
   "cell_type": "code",
   "execution_count": 9,
   "metadata": {},
   "outputs": [],
   "source": [
    "# Imports\n",
    "import pandas as pd\n",
    "from scipy.stats import chi2_contingency\n",
    "import matplotlib.pyplot as plt\n",
    "import numpy as np"
   ]
  },
  {
   "cell_type": "code",
   "execution_count": 10,
   "metadata": {},
   "outputs": [
    {
     "output_type": "stream",
     "name": "stdout",
     "text": [
      "ID                        object\nSource                    object\nTMC                        int64\nSeverity                   int64\nStart_Time                object\nEnd_Time                  object\nStart_Lat                float64\nStart_Lng                float64\nEnd_Lat                  float64\nEnd_Lng                  float64\nDistance(mi)             float64\nDescription               object\nNumber                   float64\nStreet                    object\nSide                      object\nCity                      object\nCounty                    object\nState                     object\nZipcode                   object\nCountry                   object\nTimezone                  object\nAirport_Code              object\nWeather_Timestamp         object\nTemperature(F)           float64\nWind_Chill(F)            float64\nHumidity(%)                int64\nPressure(in)             float64\nVisibility(mi)           float64\nWind_Direction            object\nWind_Speed(mph)          float64\nPrecipitation(in)        float64\nWeather_Condition         object\nAmenity                     bool\nBump                        bool\nCrossing                    bool\nGive_Way                    bool\nJunction                    bool\nNo_Exit                     bool\nRailway                     bool\nRoundabout                  bool\nStation                     bool\nStop                        bool\nTraffic_Calming             bool\nTraffic_Signal              bool\nTurning_Loop                bool\nSunrise_Sunset            object\nCivil_Twilight            object\nNautical_Twilight         object\nAstronomical_Twilight     object\ndtype: object\n"
     ]
    },
    {
     "output_type": "execute_result",
     "data": {
      "text/plain": [
       "    ID    Source  TMC  Severity           Start_Time             End_Time  \\\n",
       "0  A-1  MapQuest  201         3  2016-02-08 05:46:00  2016-02-08 11:00:00   \n",
       "1  A-2  MapQuest  201         2  2016-02-08 06:07:59  2016-02-08 06:37:59   \n",
       "2  A-3  MapQuest  201         2  2016-02-08 06:49:27  2016-02-08 07:19:27   \n",
       "3  A-4  MapQuest  201         3  2016-02-08 07:23:34  2016-02-08 07:53:34   \n",
       "4  A-5  MapQuest  201         2  2016-02-08 07:39:07  2016-02-08 08:09:07   \n",
       "\n",
       "   Start_Lat  Start_Lng  End_Lat  End_Lng  ...  Roundabout Station   Stop  \\\n",
       "0  39.865147 -84.058723      NaN      NaN  ...       False   False  False   \n",
       "1  39.928059 -82.831184      NaN      NaN  ...       False   False  False   \n",
       "2  39.063148 -84.032608      NaN      NaN  ...       False   False  False   \n",
       "3  39.747753 -84.205582      NaN      NaN  ...       False   False  False   \n",
       "4  39.627781 -84.188354      NaN      NaN  ...       False   False  False   \n",
       "\n",
       "  Traffic_Calming Traffic_Signal Turning_Loop Sunrise_Sunset Civil_Twilight  \\\n",
       "0           False          False        False          Night          Night   \n",
       "1           False          False        False          Night          Night   \n",
       "2           False           True        False          Night          Night   \n",
       "3           False          False        False          Night            Day   \n",
       "4           False           True        False            Day            Day   \n",
       "\n",
       "  Nautical_Twilight Astronomical_Twilight  \n",
       "0             Night                 Night  \n",
       "1             Night                   Day  \n",
       "2               Day                   Day  \n",
       "3               Day                   Day  \n",
       "4               Day                   Day  \n",
       "\n",
       "[5 rows x 49 columns]"
      ],
      "text/html": "<div>\n<style scoped>\n    .dataframe tbody tr th:only-of-type {\n        vertical-align: middle;\n    }\n\n    .dataframe tbody tr th {\n        vertical-align: top;\n    }\n\n    .dataframe thead th {\n        text-align: right;\n    }\n</style>\n<table border=\"1\" class=\"dataframe\">\n  <thead>\n    <tr style=\"text-align: right;\">\n      <th></th>\n      <th>ID</th>\n      <th>Source</th>\n      <th>TMC</th>\n      <th>Severity</th>\n      <th>Start_Time</th>\n      <th>End_Time</th>\n      <th>Start_Lat</th>\n      <th>Start_Lng</th>\n      <th>End_Lat</th>\n      <th>End_Lng</th>\n      <th>...</th>\n      <th>Roundabout</th>\n      <th>Station</th>\n      <th>Stop</th>\n      <th>Traffic_Calming</th>\n      <th>Traffic_Signal</th>\n      <th>Turning_Loop</th>\n      <th>Sunrise_Sunset</th>\n      <th>Civil_Twilight</th>\n      <th>Nautical_Twilight</th>\n      <th>Astronomical_Twilight</th>\n    </tr>\n  </thead>\n  <tbody>\n    <tr>\n      <th>0</th>\n      <td>A-1</td>\n      <td>MapQuest</td>\n      <td>201</td>\n      <td>3</td>\n      <td>2016-02-08 05:46:00</td>\n      <td>2016-02-08 11:00:00</td>\n      <td>39.865147</td>\n      <td>-84.058723</td>\n      <td>NaN</td>\n      <td>NaN</td>\n      <td>...</td>\n      <td>False</td>\n      <td>False</td>\n      <td>False</td>\n      <td>False</td>\n      <td>False</td>\n      <td>False</td>\n      <td>Night</td>\n      <td>Night</td>\n      <td>Night</td>\n      <td>Night</td>\n    </tr>\n    <tr>\n      <th>1</th>\n      <td>A-2</td>\n      <td>MapQuest</td>\n      <td>201</td>\n      <td>2</td>\n      <td>2016-02-08 06:07:59</td>\n      <td>2016-02-08 06:37:59</td>\n      <td>39.928059</td>\n      <td>-82.831184</td>\n      <td>NaN</td>\n      <td>NaN</td>\n      <td>...</td>\n      <td>False</td>\n      <td>False</td>\n      <td>False</td>\n      <td>False</td>\n      <td>False</td>\n      <td>False</td>\n      <td>Night</td>\n      <td>Night</td>\n      <td>Night</td>\n      <td>Day</td>\n    </tr>\n    <tr>\n      <th>2</th>\n      <td>A-3</td>\n      <td>MapQuest</td>\n      <td>201</td>\n      <td>2</td>\n      <td>2016-02-08 06:49:27</td>\n      <td>2016-02-08 07:19:27</td>\n      <td>39.063148</td>\n      <td>-84.032608</td>\n      <td>NaN</td>\n      <td>NaN</td>\n      <td>...</td>\n      <td>False</td>\n      <td>False</td>\n      <td>False</td>\n      <td>False</td>\n      <td>True</td>\n      <td>False</td>\n      <td>Night</td>\n      <td>Night</td>\n      <td>Day</td>\n      <td>Day</td>\n    </tr>\n    <tr>\n      <th>3</th>\n      <td>A-4</td>\n      <td>MapQuest</td>\n      <td>201</td>\n      <td>3</td>\n      <td>2016-02-08 07:23:34</td>\n      <td>2016-02-08 07:53:34</td>\n      <td>39.747753</td>\n      <td>-84.205582</td>\n      <td>NaN</td>\n      <td>NaN</td>\n      <td>...</td>\n      <td>False</td>\n      <td>False</td>\n      <td>False</td>\n      <td>False</td>\n      <td>False</td>\n      <td>False</td>\n      <td>Night</td>\n      <td>Day</td>\n      <td>Day</td>\n      <td>Day</td>\n    </tr>\n    <tr>\n      <th>4</th>\n      <td>A-5</td>\n      <td>MapQuest</td>\n      <td>201</td>\n      <td>2</td>\n      <td>2016-02-08 07:39:07</td>\n      <td>2016-02-08 08:09:07</td>\n      <td>39.627781</td>\n      <td>-84.188354</td>\n      <td>NaN</td>\n      <td>NaN</td>\n      <td>...</td>\n      <td>False</td>\n      <td>False</td>\n      <td>False</td>\n      <td>False</td>\n      <td>True</td>\n      <td>False</td>\n      <td>Day</td>\n      <td>Day</td>\n      <td>Day</td>\n      <td>Day</td>\n    </tr>\n  </tbody>\n</table>\n<p>5 rows × 49 columns</p>\n</div>"
     },
     "metadata": {},
     "execution_count": 10
    }
   ],
   "source": [
    "# Read CSV\n",
    "df=pd.read_csv(\"us_accidents_june20_samples100000.csv\",sep=\",\")\n",
    "\n",
    "print(df.dtypes)\n",
    "df.head()"
   ]
  },
  {
   "cell_type": "code",
   "execution_count": 11,
   "metadata": {},
   "outputs": [],
   "source": [
    "def rp_chisquare(var, dep_var, df_name = df):\n",
    "    contingencyTable = pd.crosstab(df_name[var], df_name[dep_var])\n",
    "    chi2, pval, dof, expectedFreq = chi2_contingency(contingencyTable)\n",
    "\n",
    "    #show pval in non-scienetific expression\n",
    "    return [round(chi2,5) , round(pval,5)]"
   ]
  },
  {
   "cell_type": "code",
   "execution_count": 12,
   "metadata": {},
   "outputs": [],
   "source": [
    "def chisquare(var, dep_var, df_name = df):\n",
    "    contingencyTable = pd.crosstab(df_name[var], df_name[dep_var])\n",
    "    chi2, pval, dof, expectedFreq = chi2_contingency(contingencyTable)\n",
    "\n",
    "    #show pval in non-scienetific expression\n",
    "    print(\"testvar:\",var,\"\\nchi2=\",chi2,\"\\npval=\",f'{pval}',\"\\ndof=\",dof)\n",
    "\n",
    "    return contingencyTable"
   ]
  },
  {
   "cell_type": "code",
   "execution_count": 13,
   "metadata": {},
   "outputs": [],
   "source": [
    "#Zielvariable = "
   ]
  },
  {
   "cell_type": "code",
   "execution_count": 14,
   "metadata": {},
   "outputs": [
    {
     "output_type": "execute_result",
     "data": {
      "text/plain": [
       "                        TMC  Severity  Start_Lat  Start_Lng  End_Lat  End_Lng  \\\n",
       "TMC                1.000000  0.084965   0.006844  -0.014709      NaN      NaN   \n",
       "Severity           0.084965  1.000000  -0.127791   0.039999      NaN      NaN   \n",
       "Start_Lat          0.006844 -0.127791   1.000000  -0.366807      NaN      NaN   \n",
       "Start_Lng         -0.014709  0.039999  -0.366807   1.000000      NaN      NaN   \n",
       "End_Lat                 NaN       NaN        NaN        NaN      NaN      NaN   \n",
       "End_Lng                 NaN       NaN        NaN        NaN      NaN      NaN   \n",
       "Distance(mi)       0.002239 -0.000652   0.018194   0.000544      NaN      NaN   \n",
       "Number            -0.006243 -0.092496  -0.160416   0.020842      NaN      NaN   \n",
       "Temperature(F)    -0.043735  0.007487  -0.161711  -0.037208      NaN      NaN   \n",
       "Wind_Chill(F)     -0.007094 -0.052336  -0.723595  -0.354144      NaN      NaN   \n",
       "Humidity(%)        0.046424  0.004697   0.062880  -0.014969      NaN      NaN   \n",
       "Pressure(in)       0.005901 -0.005868   0.063097  -0.029536      NaN      NaN   \n",
       "Visibility(mi)    -0.020980  0.005612   0.034964  -0.099114      NaN      NaN   \n",
       "Wind_Speed(mph)   -0.016710  0.008383   0.162838  -0.049389      NaN      NaN   \n",
       "Precipitation(in)  0.010692  0.023831   0.041118  -0.022550      NaN      NaN   \n",
       "Amenity           -0.011561 -0.046557   0.002923  -0.003410      NaN      NaN   \n",
       "Bump              -0.002491 -0.008723   0.011030  -0.008696      NaN      NaN   \n",
       "Crossing          -0.020585 -0.125837   0.101460  -0.045202      NaN      NaN   \n",
       "Give_Way          -0.006196 -0.022058   0.017452  -0.016868      NaN      NaN   \n",
       "Junction           0.020640  0.092127   0.096314  -0.084704      NaN      NaN   \n",
       "No_Exit           -0.000585  0.007573   0.006720  -0.007356      NaN      NaN   \n",
       "Railway           -0.000825  0.014522  -0.005205  -0.008783      NaN      NaN   \n",
       "Roundabout        -0.002869 -0.006338   0.006757  -0.003143      NaN      NaN   \n",
       "Station           -0.016401 -0.053591  -0.063254   0.021597      NaN      NaN   \n",
       "Stop              -0.028846 -0.117959   0.075839  -0.047000      NaN      NaN   \n",
       "Traffic_Calming   -0.003453 -0.011738   0.012349  -0.011078      NaN      NaN   \n",
       "Traffic_Signal    -0.039303 -0.191156  -0.009078   0.034471      NaN      NaN   \n",
       "Turning_Loop            NaN       NaN        NaN        NaN      NaN      NaN   \n",
       "\n",
       "                   Distance(mi)    Number  Temperature(F)  Wind_Chill(F)  ...  \\\n",
       "TMC                    0.002239 -0.006243       -0.043735      -0.007094  ...   \n",
       "Severity              -0.000652 -0.092496        0.007487      -0.052336  ...   \n",
       "Start_Lat              0.018194 -0.160416       -0.161711      -0.723595  ...   \n",
       "Start_Lng              0.000544  0.020842       -0.037208      -0.354144  ...   \n",
       "End_Lat                     NaN       NaN             NaN            NaN  ...   \n",
       "End_Lng                     NaN       NaN             NaN            NaN  ...   \n",
       "Distance(mi)           1.000000  0.018331       -0.021306      -0.055136  ...   \n",
       "Number                 0.018331  1.000000        0.079515       0.536621  ...   \n",
       "Temperature(F)        -0.021306  0.079515        1.000000       0.994905  ...   \n",
       "Wind_Chill(F)         -0.055136  0.536621        0.994905       1.000000  ...   \n",
       "Humidity(%)            0.010616 -0.069700       -0.382516      -0.676571  ...   \n",
       "Pressure(in)           0.000818  0.058167        0.399055      -0.598193  ...   \n",
       "Visibility(mi)        -0.007019  0.059505        0.383919       0.330616  ...   \n",
       "Wind_Speed(mph)        0.004298  0.012529        0.061813      -0.095327  ...   \n",
       "Precipitation(in)      0.018107 -0.158213       -0.187785      -0.321582  ...   \n",
       "Amenity               -0.001412 -0.064219       -0.015401      -0.044589  ...   \n",
       "Bump                  -0.000548 -0.000260        0.000910      -0.007987  ...   \n",
       "Crossing               0.000781 -0.054009       -0.016879      -0.056700  ...   \n",
       "Give_Way              -0.000704  0.016176       -0.019401       0.023439  ...   \n",
       "Junction              -0.004702  0.011516       -0.009616      -0.088121  ...   \n",
       "No_Exit               -0.000508 -0.001011        0.003589       0.021688  ...   \n",
       "Railway                0.001368 -0.031679       -0.022381      -0.040136  ...   \n",
       "Roundabout            -0.000306 -0.004559        0.000309       0.009293  ...   \n",
       "Station               -0.003039 -0.065297       -0.004746      -0.029968  ...   \n",
       "Stop                   0.009924  0.039188       -0.015677      -0.041825  ...   \n",
       "Traffic_Calming       -0.000561 -0.005969       -0.000372      -0.007987  ...   \n",
       "Traffic_Signal        -0.007148 -0.074776        0.003879      -0.037474  ...   \n",
       "Turning_Loop                NaN       NaN             NaN            NaN  ...   \n",
       "\n",
       "                   Give_Way  Junction   No_Exit   Railway  Roundabout  \\\n",
       "TMC               -0.006196  0.020640 -0.000585 -0.000825   -0.002869   \n",
       "Severity          -0.022058  0.092127  0.007573  0.014522   -0.006338   \n",
       "Start_Lat          0.017452  0.096314  0.006720 -0.005205    0.006757   \n",
       "Start_Lng         -0.016868 -0.084704 -0.007356 -0.008783   -0.003143   \n",
       "End_Lat                 NaN       NaN       NaN       NaN         NaN   \n",
       "End_Lng                 NaN       NaN       NaN       NaN         NaN   \n",
       "Distance(mi)      -0.000704 -0.004702 -0.000508  0.001368   -0.000306   \n",
       "Number             0.016176  0.011516 -0.001011 -0.031679   -0.004559   \n",
       "Temperature(F)    -0.019401 -0.009616  0.003589 -0.022381    0.000309   \n",
       "Wind_Chill(F)      0.023439 -0.088121  0.021688 -0.040136    0.009293   \n",
       "Humidity(%)        0.005218  0.026876 -0.003193  0.002747   -0.000200   \n",
       "Pressure(in)      -0.020306  0.024951  0.001758 -0.044848    0.000550   \n",
       "Visibility(mi)    -0.004792  0.020822  0.004876 -0.014918    0.002619   \n",
       "Wind_Speed(mph)    0.001033  0.030909 -0.002635  0.004721   -0.000959   \n",
       "Precipitation(in) -0.004840  0.002146  0.002937  0.012205   -0.005812   \n",
       "Amenity            0.026648 -0.030534 -0.001594  0.022797   -0.000651   \n",
       "Bump              -0.000462 -0.003218 -0.000268 -0.001718   -0.000110   \n",
       "Crossing           0.054748 -0.065655  0.002495  0.209192   -0.001421   \n",
       "Give_Way           1.000000 -0.010248 -0.000517 -0.000249   -0.000211   \n",
       "Junction          -0.010248  1.000000 -0.004068 -0.028869    0.020593   \n",
       "No_Exit           -0.000517 -0.004068  1.000000 -0.001921   -0.000122   \n",
       "Railway           -0.000249 -0.028869 -0.001921  1.000000   -0.000784   \n",
       "Roundabout        -0.000211  0.020593 -0.000122 -0.000784    1.000000   \n",
       "Station           -0.002699 -0.048098  0.004526  0.298857   -0.001144   \n",
       "Stop               0.077528 -0.037090  0.005522  0.006056    0.018701   \n",
       "Traffic_Calming    0.017111 -0.004800 -0.000329  0.002707   -0.000134   \n",
       "Traffic_Signal     0.033882 -0.093897 -0.005601  0.027440    0.002545   \n",
       "Turning_Loop            NaN       NaN       NaN       NaN         NaN   \n",
       "\n",
       "                    Station      Stop  Traffic_Calming  Traffic_Signal  \\\n",
       "TMC               -0.016401 -0.028846        -0.003453       -0.039303   \n",
       "Severity          -0.053591 -0.117959        -0.011738       -0.191156   \n",
       "Start_Lat         -0.063254  0.075839         0.012349       -0.009078   \n",
       "Start_Lng          0.021597 -0.047000        -0.011078        0.034471   \n",
       "End_Lat                 NaN       NaN              NaN             NaN   \n",
       "End_Lng                 NaN       NaN              NaN             NaN   \n",
       "Distance(mi)      -0.003039  0.009924        -0.000561       -0.007148   \n",
       "Number            -0.065297  0.039188        -0.005969       -0.074776   \n",
       "Temperature(F)    -0.004746 -0.015677        -0.000372        0.003879   \n",
       "Wind_Chill(F)     -0.029968 -0.041825        -0.007987       -0.037474   \n",
       "Humidity(%)        0.003179 -0.002979         0.004553       -0.006763   \n",
       "Pressure(in)      -0.025511 -0.009290         0.002661       -0.007217   \n",
       "Visibility(mi)    -0.003031 -0.000653         0.001175        0.007071   \n",
       "Wind_Speed(mph)   -0.008718  0.007322         0.008409       -0.010631   \n",
       "Precipitation(in)  0.017352  0.023996        -0.008220        0.009121   \n",
       "Amenity            0.173516  0.030105         0.032909        0.096755   \n",
       "Bump               0.005686  0.029263         0.816448       -0.000599   \n",
       "Crossing           0.096873  0.116831         0.053479        0.358804   \n",
       "Give_Way          -0.002699  0.077528         0.017111        0.033882   \n",
       "Junction          -0.048098 -0.037090        -0.004800       -0.093897   \n",
       "No_Exit            0.004526  0.005522        -0.000329       -0.005601   \n",
       "Railway            0.298857  0.006056         0.002707        0.027440   \n",
       "Roundabout        -0.001144  0.018701        -0.000134        0.002545   \n",
       "Station            1.000000  0.041404         0.003620        0.135843   \n",
       "Stop               0.041404  1.000000         0.034003       -0.037321   \n",
       "Traffic_Calming    0.003620  0.034003         1.000000        0.008270   \n",
       "Traffic_Signal     0.135843 -0.037321         0.008270        1.000000   \n",
       "Turning_Loop            NaN       NaN              NaN             NaN   \n",
       "\n",
       "                   Turning_Loop  \n",
       "TMC                         NaN  \n",
       "Severity                    NaN  \n",
       "Start_Lat                   NaN  \n",
       "Start_Lng                   NaN  \n",
       "End_Lat                     NaN  \n",
       "End_Lng                     NaN  \n",
       "Distance(mi)                NaN  \n",
       "Number                      NaN  \n",
       "Temperature(F)              NaN  \n",
       "Wind_Chill(F)               NaN  \n",
       "Humidity(%)                 NaN  \n",
       "Pressure(in)                NaN  \n",
       "Visibility(mi)              NaN  \n",
       "Wind_Speed(mph)             NaN  \n",
       "Precipitation(in)           NaN  \n",
       "Amenity                     NaN  \n",
       "Bump                        NaN  \n",
       "Crossing                    NaN  \n",
       "Give_Way                    NaN  \n",
       "Junction                    NaN  \n",
       "No_Exit                     NaN  \n",
       "Railway                     NaN  \n",
       "Roundabout                  NaN  \n",
       "Station                     NaN  \n",
       "Stop                        NaN  \n",
       "Traffic_Calming             NaN  \n",
       "Traffic_Signal              NaN  \n",
       "Turning_Loop                NaN  \n",
       "\n",
       "[28 rows x 28 columns]"
      ],
      "text/html": "<div>\n<style scoped>\n    .dataframe tbody tr th:only-of-type {\n        vertical-align: middle;\n    }\n\n    .dataframe tbody tr th {\n        vertical-align: top;\n    }\n\n    .dataframe thead th {\n        text-align: right;\n    }\n</style>\n<table border=\"1\" class=\"dataframe\">\n  <thead>\n    <tr style=\"text-align: right;\">\n      <th></th>\n      <th>TMC</th>\n      <th>Severity</th>\n      <th>Start_Lat</th>\n      <th>Start_Lng</th>\n      <th>End_Lat</th>\n      <th>End_Lng</th>\n      <th>Distance(mi)</th>\n      <th>Number</th>\n      <th>Temperature(F)</th>\n      <th>Wind_Chill(F)</th>\n      <th>...</th>\n      <th>Give_Way</th>\n      <th>Junction</th>\n      <th>No_Exit</th>\n      <th>Railway</th>\n      <th>Roundabout</th>\n      <th>Station</th>\n      <th>Stop</th>\n      <th>Traffic_Calming</th>\n      <th>Traffic_Signal</th>\n      <th>Turning_Loop</th>\n    </tr>\n  </thead>\n  <tbody>\n    <tr>\n      <th>TMC</th>\n      <td>1.000000</td>\n      <td>0.084965</td>\n      <td>0.006844</td>\n      <td>-0.014709</td>\n      <td>NaN</td>\n      <td>NaN</td>\n      <td>0.002239</td>\n      <td>-0.006243</td>\n      <td>-0.043735</td>\n      <td>-0.007094</td>\n      <td>...</td>\n      <td>-0.006196</td>\n      <td>0.020640</td>\n      <td>-0.000585</td>\n      <td>-0.000825</td>\n      <td>-0.002869</td>\n      <td>-0.016401</td>\n      <td>-0.028846</td>\n      <td>-0.003453</td>\n      <td>-0.039303</td>\n      <td>NaN</td>\n    </tr>\n    <tr>\n      <th>Severity</th>\n      <td>0.084965</td>\n      <td>1.000000</td>\n      <td>-0.127791</td>\n      <td>0.039999</td>\n      <td>NaN</td>\n      <td>NaN</td>\n      <td>-0.000652</td>\n      <td>-0.092496</td>\n      <td>0.007487</td>\n      <td>-0.052336</td>\n      <td>...</td>\n      <td>-0.022058</td>\n      <td>0.092127</td>\n      <td>0.007573</td>\n      <td>0.014522</td>\n      <td>-0.006338</td>\n      <td>-0.053591</td>\n      <td>-0.117959</td>\n      <td>-0.011738</td>\n      <td>-0.191156</td>\n      <td>NaN</td>\n    </tr>\n    <tr>\n      <th>Start_Lat</th>\n      <td>0.006844</td>\n      <td>-0.127791</td>\n      <td>1.000000</td>\n      <td>-0.366807</td>\n      <td>NaN</td>\n      <td>NaN</td>\n      <td>0.018194</td>\n      <td>-0.160416</td>\n      <td>-0.161711</td>\n      <td>-0.723595</td>\n      <td>...</td>\n      <td>0.017452</td>\n      <td>0.096314</td>\n      <td>0.006720</td>\n      <td>-0.005205</td>\n      <td>0.006757</td>\n      <td>-0.063254</td>\n      <td>0.075839</td>\n      <td>0.012349</td>\n      <td>-0.009078</td>\n      <td>NaN</td>\n    </tr>\n    <tr>\n      <th>Start_Lng</th>\n      <td>-0.014709</td>\n      <td>0.039999</td>\n      <td>-0.366807</td>\n      <td>1.000000</td>\n      <td>NaN</td>\n      <td>NaN</td>\n      <td>0.000544</td>\n      <td>0.020842</td>\n      <td>-0.037208</td>\n      <td>-0.354144</td>\n      <td>...</td>\n      <td>-0.016868</td>\n      <td>-0.084704</td>\n      <td>-0.007356</td>\n      <td>-0.008783</td>\n      <td>-0.003143</td>\n      <td>0.021597</td>\n      <td>-0.047000</td>\n      <td>-0.011078</td>\n      <td>0.034471</td>\n      <td>NaN</td>\n    </tr>\n    <tr>\n      <th>End_Lat</th>\n      <td>NaN</td>\n      <td>NaN</td>\n      <td>NaN</td>\n      <td>NaN</td>\n      <td>NaN</td>\n      <td>NaN</td>\n      <td>NaN</td>\n      <td>NaN</td>\n      <td>NaN</td>\n      <td>NaN</td>\n      <td>...</td>\n      <td>NaN</td>\n      <td>NaN</td>\n      <td>NaN</td>\n      <td>NaN</td>\n      <td>NaN</td>\n      <td>NaN</td>\n      <td>NaN</td>\n      <td>NaN</td>\n      <td>NaN</td>\n      <td>NaN</td>\n    </tr>\n    <tr>\n      <th>End_Lng</th>\n      <td>NaN</td>\n      <td>NaN</td>\n      <td>NaN</td>\n      <td>NaN</td>\n      <td>NaN</td>\n      <td>NaN</td>\n      <td>NaN</td>\n      <td>NaN</td>\n      <td>NaN</td>\n      <td>NaN</td>\n      <td>...</td>\n      <td>NaN</td>\n      <td>NaN</td>\n      <td>NaN</td>\n      <td>NaN</td>\n      <td>NaN</td>\n      <td>NaN</td>\n      <td>NaN</td>\n      <td>NaN</td>\n      <td>NaN</td>\n      <td>NaN</td>\n    </tr>\n    <tr>\n      <th>Distance(mi)</th>\n      <td>0.002239</td>\n      <td>-0.000652</td>\n      <td>0.018194</td>\n      <td>0.000544</td>\n      <td>NaN</td>\n      <td>NaN</td>\n      <td>1.000000</td>\n      <td>0.018331</td>\n      <td>-0.021306</td>\n      <td>-0.055136</td>\n      <td>...</td>\n      <td>-0.000704</td>\n      <td>-0.004702</td>\n      <td>-0.000508</td>\n      <td>0.001368</td>\n      <td>-0.000306</td>\n      <td>-0.003039</td>\n      <td>0.009924</td>\n      <td>-0.000561</td>\n      <td>-0.007148</td>\n      <td>NaN</td>\n    </tr>\n    <tr>\n      <th>Number</th>\n      <td>-0.006243</td>\n      <td>-0.092496</td>\n      <td>-0.160416</td>\n      <td>0.020842</td>\n      <td>NaN</td>\n      <td>NaN</td>\n      <td>0.018331</td>\n      <td>1.000000</td>\n      <td>0.079515</td>\n      <td>0.536621</td>\n      <td>...</td>\n      <td>0.016176</td>\n      <td>0.011516</td>\n      <td>-0.001011</td>\n      <td>-0.031679</td>\n      <td>-0.004559</td>\n      <td>-0.065297</td>\n      <td>0.039188</td>\n      <td>-0.005969</td>\n      <td>-0.074776</td>\n      <td>NaN</td>\n    </tr>\n    <tr>\n      <th>Temperature(F)</th>\n      <td>-0.043735</td>\n      <td>0.007487</td>\n      <td>-0.161711</td>\n      <td>-0.037208</td>\n      <td>NaN</td>\n      <td>NaN</td>\n      <td>-0.021306</td>\n      <td>0.079515</td>\n      <td>1.000000</td>\n      <td>0.994905</td>\n      <td>...</td>\n      <td>-0.019401</td>\n      <td>-0.009616</td>\n      <td>0.003589</td>\n      <td>-0.022381</td>\n      <td>0.000309</td>\n      <td>-0.004746</td>\n      <td>-0.015677</td>\n      <td>-0.000372</td>\n      <td>0.003879</td>\n      <td>NaN</td>\n    </tr>\n    <tr>\n      <th>Wind_Chill(F)</th>\n      <td>-0.007094</td>\n      <td>-0.052336</td>\n      <td>-0.723595</td>\n      <td>-0.354144</td>\n      <td>NaN</td>\n      <td>NaN</td>\n      <td>-0.055136</td>\n      <td>0.536621</td>\n      <td>0.994905</td>\n      <td>1.000000</td>\n      <td>...</td>\n      <td>0.023439</td>\n      <td>-0.088121</td>\n      <td>0.021688</td>\n      <td>-0.040136</td>\n      <td>0.009293</td>\n      <td>-0.029968</td>\n      <td>-0.041825</td>\n      <td>-0.007987</td>\n      <td>-0.037474</td>\n      <td>NaN</td>\n    </tr>\n    <tr>\n      <th>Humidity(%)</th>\n      <td>0.046424</td>\n      <td>0.004697</td>\n      <td>0.062880</td>\n      <td>-0.014969</td>\n      <td>NaN</td>\n      <td>NaN</td>\n      <td>0.010616</td>\n      <td>-0.069700</td>\n      <td>-0.382516</td>\n      <td>-0.676571</td>\n      <td>...</td>\n      <td>0.005218</td>\n      <td>0.026876</td>\n      <td>-0.003193</td>\n      <td>0.002747</td>\n      <td>-0.000200</td>\n      <td>0.003179</td>\n      <td>-0.002979</td>\n      <td>0.004553</td>\n      <td>-0.006763</td>\n      <td>NaN</td>\n    </tr>\n    <tr>\n      <th>Pressure(in)</th>\n      <td>0.005901</td>\n      <td>-0.005868</td>\n      <td>0.063097</td>\n      <td>-0.029536</td>\n      <td>NaN</td>\n      <td>NaN</td>\n      <td>0.000818</td>\n      <td>0.058167</td>\n      <td>0.399055</td>\n      <td>-0.598193</td>\n      <td>...</td>\n      <td>-0.020306</td>\n      <td>0.024951</td>\n      <td>0.001758</td>\n      <td>-0.044848</td>\n      <td>0.000550</td>\n      <td>-0.025511</td>\n      <td>-0.009290</td>\n      <td>0.002661</td>\n      <td>-0.007217</td>\n      <td>NaN</td>\n    </tr>\n    <tr>\n      <th>Visibility(mi)</th>\n      <td>-0.020980</td>\n      <td>0.005612</td>\n      <td>0.034964</td>\n      <td>-0.099114</td>\n      <td>NaN</td>\n      <td>NaN</td>\n      <td>-0.007019</td>\n      <td>0.059505</td>\n      <td>0.383919</td>\n      <td>0.330616</td>\n      <td>...</td>\n      <td>-0.004792</td>\n      <td>0.020822</td>\n      <td>0.004876</td>\n      <td>-0.014918</td>\n      <td>0.002619</td>\n      <td>-0.003031</td>\n      <td>-0.000653</td>\n      <td>0.001175</td>\n      <td>0.007071</td>\n      <td>NaN</td>\n    </tr>\n    <tr>\n      <th>Wind_Speed(mph)</th>\n      <td>-0.016710</td>\n      <td>0.008383</td>\n      <td>0.162838</td>\n      <td>-0.049389</td>\n      <td>NaN</td>\n      <td>NaN</td>\n      <td>0.004298</td>\n      <td>0.012529</td>\n      <td>0.061813</td>\n      <td>-0.095327</td>\n      <td>...</td>\n      <td>0.001033</td>\n      <td>0.030909</td>\n      <td>-0.002635</td>\n      <td>0.004721</td>\n      <td>-0.000959</td>\n      <td>-0.008718</td>\n      <td>0.007322</td>\n      <td>0.008409</td>\n      <td>-0.010631</td>\n      <td>NaN</td>\n    </tr>\n    <tr>\n      <th>Precipitation(in)</th>\n      <td>0.010692</td>\n      <td>0.023831</td>\n      <td>0.041118</td>\n      <td>-0.022550</td>\n      <td>NaN</td>\n      <td>NaN</td>\n      <td>0.018107</td>\n      <td>-0.158213</td>\n      <td>-0.187785</td>\n      <td>-0.321582</td>\n      <td>...</td>\n      <td>-0.004840</td>\n      <td>0.002146</td>\n      <td>0.002937</td>\n      <td>0.012205</td>\n      <td>-0.005812</td>\n      <td>0.017352</td>\n      <td>0.023996</td>\n      <td>-0.008220</td>\n      <td>0.009121</td>\n      <td>NaN</td>\n    </tr>\n    <tr>\n      <th>Amenity</th>\n      <td>-0.011561</td>\n      <td>-0.046557</td>\n      <td>0.002923</td>\n      <td>-0.003410</td>\n      <td>NaN</td>\n      <td>NaN</td>\n      <td>-0.001412</td>\n      <td>-0.064219</td>\n      <td>-0.015401</td>\n      <td>-0.044589</td>\n      <td>...</td>\n      <td>0.026648</td>\n      <td>-0.030534</td>\n      <td>-0.001594</td>\n      <td>0.022797</td>\n      <td>-0.000651</td>\n      <td>0.173516</td>\n      <td>0.030105</td>\n      <td>0.032909</td>\n      <td>0.096755</td>\n      <td>NaN</td>\n    </tr>\n    <tr>\n      <th>Bump</th>\n      <td>-0.002491</td>\n      <td>-0.008723</td>\n      <td>0.011030</td>\n      <td>-0.008696</td>\n      <td>NaN</td>\n      <td>NaN</td>\n      <td>-0.000548</td>\n      <td>-0.000260</td>\n      <td>0.000910</td>\n      <td>-0.007987</td>\n      <td>...</td>\n      <td>-0.000462</td>\n      <td>-0.003218</td>\n      <td>-0.000268</td>\n      <td>-0.001718</td>\n      <td>-0.000110</td>\n      <td>0.005686</td>\n      <td>0.029263</td>\n      <td>0.816448</td>\n      <td>-0.000599</td>\n      <td>NaN</td>\n    </tr>\n    <tr>\n      <th>Crossing</th>\n      <td>-0.020585</td>\n      <td>-0.125837</td>\n      <td>0.101460</td>\n      <td>-0.045202</td>\n      <td>NaN</td>\n      <td>NaN</td>\n      <td>0.000781</td>\n      <td>-0.054009</td>\n      <td>-0.016879</td>\n      <td>-0.056700</td>\n      <td>...</td>\n      <td>0.054748</td>\n      <td>-0.065655</td>\n      <td>0.002495</td>\n      <td>0.209192</td>\n      <td>-0.001421</td>\n      <td>0.096873</td>\n      <td>0.116831</td>\n      <td>0.053479</td>\n      <td>0.358804</td>\n      <td>NaN</td>\n    </tr>\n    <tr>\n      <th>Give_Way</th>\n      <td>-0.006196</td>\n      <td>-0.022058</td>\n      <td>0.017452</td>\n      <td>-0.016868</td>\n      <td>NaN</td>\n      <td>NaN</td>\n      <td>-0.000704</td>\n      <td>0.016176</td>\n      <td>-0.019401</td>\n      <td>0.023439</td>\n      <td>...</td>\n      <td>1.000000</td>\n      <td>-0.010248</td>\n      <td>-0.000517</td>\n      <td>-0.000249</td>\n      <td>-0.000211</td>\n      <td>-0.002699</td>\n      <td>0.077528</td>\n      <td>0.017111</td>\n      <td>0.033882</td>\n      <td>NaN</td>\n    </tr>\n    <tr>\n      <th>Junction</th>\n      <td>0.020640</td>\n      <td>0.092127</td>\n      <td>0.096314</td>\n      <td>-0.084704</td>\n      <td>NaN</td>\n      <td>NaN</td>\n      <td>-0.004702</td>\n      <td>0.011516</td>\n      <td>-0.009616</td>\n      <td>-0.088121</td>\n      <td>...</td>\n      <td>-0.010248</td>\n      <td>1.000000</td>\n      <td>-0.004068</td>\n      <td>-0.028869</td>\n      <td>0.020593</td>\n      <td>-0.048098</td>\n      <td>-0.037090</td>\n      <td>-0.004800</td>\n      <td>-0.093897</td>\n      <td>NaN</td>\n    </tr>\n    <tr>\n      <th>No_Exit</th>\n      <td>-0.000585</td>\n      <td>0.007573</td>\n      <td>0.006720</td>\n      <td>-0.007356</td>\n      <td>NaN</td>\n      <td>NaN</td>\n      <td>-0.000508</td>\n      <td>-0.001011</td>\n      <td>0.003589</td>\n      <td>0.021688</td>\n      <td>...</td>\n      <td>-0.000517</td>\n      <td>-0.004068</td>\n      <td>1.000000</td>\n      <td>-0.001921</td>\n      <td>-0.000122</td>\n      <td>0.004526</td>\n      <td>0.005522</td>\n      <td>-0.000329</td>\n      <td>-0.005601</td>\n      <td>NaN</td>\n    </tr>\n    <tr>\n      <th>Railway</th>\n      <td>-0.000825</td>\n      <td>0.014522</td>\n      <td>-0.005205</td>\n      <td>-0.008783</td>\n      <td>NaN</td>\n      <td>NaN</td>\n      <td>0.001368</td>\n      <td>-0.031679</td>\n      <td>-0.022381</td>\n      <td>-0.040136</td>\n      <td>...</td>\n      <td>-0.000249</td>\n      <td>-0.028869</td>\n      <td>-0.001921</td>\n      <td>1.000000</td>\n      <td>-0.000784</td>\n      <td>0.298857</td>\n      <td>0.006056</td>\n      <td>0.002707</td>\n      <td>0.027440</td>\n      <td>NaN</td>\n    </tr>\n    <tr>\n      <th>Roundabout</th>\n      <td>-0.002869</td>\n      <td>-0.006338</td>\n      <td>0.006757</td>\n      <td>-0.003143</td>\n      <td>NaN</td>\n      <td>NaN</td>\n      <td>-0.000306</td>\n      <td>-0.004559</td>\n      <td>0.000309</td>\n      <td>0.009293</td>\n      <td>...</td>\n      <td>-0.000211</td>\n      <td>0.020593</td>\n      <td>-0.000122</td>\n      <td>-0.000784</td>\n      <td>1.000000</td>\n      <td>-0.001144</td>\n      <td>0.018701</td>\n      <td>-0.000134</td>\n      <td>0.002545</td>\n      <td>NaN</td>\n    </tr>\n    <tr>\n      <th>Station</th>\n      <td>-0.016401</td>\n      <td>-0.053591</td>\n      <td>-0.063254</td>\n      <td>0.021597</td>\n      <td>NaN</td>\n      <td>NaN</td>\n      <td>-0.003039</td>\n      <td>-0.065297</td>\n      <td>-0.004746</td>\n      <td>-0.029968</td>\n      <td>...</td>\n      <td>-0.002699</td>\n      <td>-0.048098</td>\n      <td>0.004526</td>\n      <td>0.298857</td>\n      <td>-0.001144</td>\n      <td>1.000000</td>\n      <td>0.041404</td>\n      <td>0.003620</td>\n      <td>0.135843</td>\n      <td>NaN</td>\n    </tr>\n    <tr>\n      <th>Stop</th>\n      <td>-0.028846</td>\n      <td>-0.117959</td>\n      <td>0.075839</td>\n      <td>-0.047000</td>\n      <td>NaN</td>\n      <td>NaN</td>\n      <td>0.009924</td>\n      <td>0.039188</td>\n      <td>-0.015677</td>\n      <td>-0.041825</td>\n      <td>...</td>\n      <td>0.077528</td>\n      <td>-0.037090</td>\n      <td>0.005522</td>\n      <td>0.006056</td>\n      <td>0.018701</td>\n      <td>0.041404</td>\n      <td>1.000000</td>\n      <td>0.034003</td>\n      <td>-0.037321</td>\n      <td>NaN</td>\n    </tr>\n    <tr>\n      <th>Traffic_Calming</th>\n      <td>-0.003453</td>\n      <td>-0.011738</td>\n      <td>0.012349</td>\n      <td>-0.011078</td>\n      <td>NaN</td>\n      <td>NaN</td>\n      <td>-0.000561</td>\n      <td>-0.005969</td>\n      <td>-0.000372</td>\n      <td>-0.007987</td>\n      <td>...</td>\n      <td>0.017111</td>\n      <td>-0.004800</td>\n      <td>-0.000329</td>\n      <td>0.002707</td>\n      <td>-0.000134</td>\n      <td>0.003620</td>\n      <td>0.034003</td>\n      <td>1.000000</td>\n      <td>0.008270</td>\n      <td>NaN</td>\n    </tr>\n    <tr>\n      <th>Traffic_Signal</th>\n      <td>-0.039303</td>\n      <td>-0.191156</td>\n      <td>-0.009078</td>\n      <td>0.034471</td>\n      <td>NaN</td>\n      <td>NaN</td>\n      <td>-0.007148</td>\n      <td>-0.074776</td>\n      <td>0.003879</td>\n      <td>-0.037474</td>\n      <td>...</td>\n      <td>0.033882</td>\n      <td>-0.093897</td>\n      <td>-0.005601</td>\n      <td>0.027440</td>\n      <td>0.002545</td>\n      <td>0.135843</td>\n      <td>-0.037321</td>\n      <td>0.008270</td>\n      <td>1.000000</td>\n      <td>NaN</td>\n    </tr>\n    <tr>\n      <th>Turning_Loop</th>\n      <td>NaN</td>\n      <td>NaN</td>\n      <td>NaN</td>\n      <td>NaN</td>\n      <td>NaN</td>\n      <td>NaN</td>\n      <td>NaN</td>\n      <td>NaN</td>\n      <td>NaN</td>\n      <td>NaN</td>\n      <td>...</td>\n      <td>NaN</td>\n      <td>NaN</td>\n      <td>NaN</td>\n      <td>NaN</td>\n      <td>NaN</td>\n      <td>NaN</td>\n      <td>NaN</td>\n      <td>NaN</td>\n      <td>NaN</td>\n      <td>NaN</td>\n    </tr>\n  </tbody>\n</table>\n<p>28 rows × 28 columns</p>\n</div>"
     },
     "metadata": {},
     "execution_count": 14
    }
   ],
   "source": [
    "# Correlations Übersicht\n",
    "df.corr()"
   ]
  },
  {
   "source": [
    "## P-Wert\n",
    "### <0,05 ist statistisch signifikant\n",
    "### >0,95 Gegenhypothese statistisch signifikant\n",
    "\n",
    "## Corr-Coefizient\n",
    "### >0 Wert 1 steigt, Wert 2 steigt\n",
    "### <0 Wert 1 sinkt, Wert 2 sinkt"
   ],
   "cell_type": "markdown",
   "metadata": {}
  },
  {
   "cell_type": "code",
   "execution_count": null,
   "metadata": {},
   "outputs": [],
   "source": [
    "abhVar = ['ID',\n",
    " 'Severity',\n",
    " 'Start_Time',\n",
    " 'Start_Lat',\n",
    " 'Start_Lng',\n",
    " 'Distance(mi)',\n",
    " 'City',\n",
    " 'County',\n",
    " 'State',\n",
    " 'Zipcode',\n",
    " 'Country',\n",
    " 'Temperature(F)',\n",
    " 'Wind_Chill(F)',\n",
    " 'Humidity(%)',\n",
    " 'Pressure(in)',\n",
    " 'Visibility(mi)',\n",
    " 'Wind_Direction',\n",
    " 'Wind_Speed(mph)',\n",
    " 'Precipitation(in)',\n",
    " 'Weather_Condition',\n",
    " 'Amenity',\n",
    " 'Bump',\n",
    " 'Crossing',\n",
    " 'Give_Way',\n",
    " 'Junction',\n",
    " 'No_Exit',\n",
    " 'Railway',\n",
    " 'Roundabout',\n",
    " 'Station',\n",
    " 'Stop',\n",
    " 'Traffic_Calming',\n",
    " 'Traffic_Signal',\n",
    " 'Turning_Loop',\n",
    " 'Sunrise_Sunset',\n",
    " 'Civil_Twilight',\n",
    " 'Nautical_Twilight',\n",
    " 'Astronomical_Twilight']"
   ]
  },
  {
   "cell_type": "code",
   "execution_count": null,
   "metadata": {},
   "outputs": [],
   "source": []
  },
  {
   "cell_type": "code",
   "execution_count": 15,
   "metadata": {},
   "outputs": [
    {
     "output_type": "error",
     "ename": "TypeError",
     "evalue": "'Index' object is not callable",
     "traceback": [
      "\u001b[1;31m---------------------------------------------------------------------------\u001b[0m",
      "\u001b[1;31mTypeError\u001b[0m                                 Traceback (most recent call last)",
      "\u001b[1;32m<ipython-input-15-ac651b2c41bf>\u001b[0m in \u001b[0;36m<module>\u001b[1;34m\u001b[0m\n\u001b[0;32m      3\u001b[0m \u001b[0mzielvar\u001b[0m \u001b[1;33m=\u001b[0m \u001b[1;34m\"\"\u001b[0m\u001b[1;33m\u001b[0m\u001b[1;33m\u001b[0m\u001b[0m\n\u001b[0;32m      4\u001b[0m \u001b[1;33m\u001b[0m\u001b[0m\n\u001b[1;32m----> 5\u001b[1;33m \u001b[1;32mfor\u001b[0m \u001b[0mi\u001b[0m \u001b[1;32min\u001b[0m \u001b[0mdf\u001b[0m\u001b[1;33m.\u001b[0m\u001b[0mcolumns\u001b[0m\u001b[1;33m(\u001b[0m\u001b[1;33m)\u001b[0m\u001b[1;33m:\u001b[0m\u001b[1;33m\u001b[0m\u001b[1;33m\u001b[0m\u001b[0m\n\u001b[0m\u001b[0;32m      6\u001b[0m     \u001b[0mprint\u001b[0m\u001b[1;33m(\u001b[0m\u001b[0mchisquare\u001b[0m\u001b[1;33m(\u001b[0m\u001b[0mzielvar\u001b[0m\u001b[1;33m,\u001b[0m \u001b[0mi\u001b[0m\u001b[1;33m)\u001b[0m\u001b[1;33m)\u001b[0m\u001b[1;33m\u001b[0m\u001b[1;33m\u001b[0m\u001b[0m\n",
      "\u001b[1;31mTypeError\u001b[0m: 'Index' object is not callable"
     ]
    }
   ],
   "source": [
    "# Contingency-Table für alle abhängige Variablen\n",
    "\n",
    "zielvar = \"\"\n",
    "\n",
    "for i in df.columns():\n",
    "    print(chisquare(zielvar, i))"
   ]
  },
  {
   "source": [
    "Analysieren Sie die Unfalldaten (us_accidents_june20_samples100000.zip, bitte auch die Metadaten beachten) und geben Sie eine Empfehlung ab, welche Maßnahmen zu weniger Verkehrsunfällen führen könnten. Erstellen Sie einen \n",
    "\n",
    "> a) allgemeinverständlichen Steckbrief mit Ihren Empfehlungen und  \n",
    "> b) einen Bericht für Data-Science Fachleute mit aussagekräftigen und wenn möglich mit Signifikanztests unterlegten Diagrammen, welche Ihre Empfehlungen des Steckbriefs stützen.\n",
    "\n",
    "Geben Sie den Steckbrief, sowie den Fachbericht als 1 PDF über die Moodle Aufgabe ab.\n",
    "\n",
    "Die Bearbeitung dieser Aufgabenstellung ist Teil einer Prüfungsleistung. Sie können alle Ressourcen nutzen und mit Ihrem GruppenpartnerIn zusammenabreiten (Bild+Ton+Dateien teilen). Eine Zusammenarbeit mit weiteren Person, die Kommunikation mit weiteren Person oder das Teilen von Dateien z.B. über Cloud-Dienste mit weiteren Personen ist nicht erlaubt"
   ],
   "cell_type": "markdown",
   "metadata": {}
  }
 ]
}