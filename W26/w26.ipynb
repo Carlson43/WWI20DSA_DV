{
 "metadata": {
  "language_info": {
   "codemirror_mode": {
    "name": "ipython",
    "version": 3
   },
   "file_extension": ".py",
   "mimetype": "text/x-python",
   "name": "python",
   "nbconvert_exporter": "python",
   "pygments_lexer": "ipython3",
   "version": 3
  },
  "orig_nbformat": 4
 },
 "nbformat": 4,
 "nbformat_minor": 2,
 "cells": [
  {
   "source": [
    "### Sie werden beauftragt die portugisische BildungsminsterIn dahingehend zu beraten, wie man die schulische Ausbildung erfolgreicher gestalten könnte. \n",
    "Was antworten Sie?\n",
    "    > qualitative Antwort in verständlicher Sprache, \n",
    "    > Konsument der Antwort ist der Duchschnittsbürger\n",
    "\n",
    "Erstellen Sie außerdem einen fundierten Bericht, welcher Ihre qualitative Antwort mit quantitativen Angaben und aussagekräftigen Abbildungen stützt. \n",
    "    > Konsument ist ein Data-Scientist"
   ],
   "cell_type": "markdown",
   "metadata": {}
  },
  {
   "cell_type": "code",
   "execution_count": null,
   "metadata": {},
   "outputs": [],
   "source": []
  }
 ]
}