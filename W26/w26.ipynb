{
 "metadata": {
  "language_info": {
   "codemirror_mode": {
    "name": "ipython",
    "version": 3
   },
   "file_extension": ".py",
   "mimetype": "text/x-python",
   "name": "python",
   "nbconvert_exporter": "python",
   "pygments_lexer": "ipython3",
   "version": "3.8.7"
  },
  "orig_nbformat": 4,
  "kernelspec": {
   "name": "python3",
   "display_name": "Python 3.8.7 64-bit"
  },
  "interpreter": {
   "hash": "8ca06996e3193df3b381d85aee2d4d3369a534d3bb1c7cdff9d40f8ac16de6f6"
  }
 },
 "nbformat": 4,
 "nbformat_minor": 2,
 "cells": [
  {
   "source": [
    "### Sie werden beauftragt die portugisische BildungsminsterIn dahingehend zu beraten, wie man die schulische Ausbildung erfolgreicher gestalten könnte. \n",
    "Was antworten Sie?\n",
    "    > qualitative Antwort in verständlicher Sprache, \n",
    "    > Konsument der Antwort ist der Duchschnittsbürger\n",
    "\n",
    "Erstellen Sie außerdem einen fundierten Bericht, welcher Ihre qualitative Antwort mit quantitativen Angaben und aussagekräftigen Abbildungen stützt. \n",
    "    > Konsument ist ein Data-Scientist"
   ],
   "cell_type": "markdown",
   "metadata": {}
  },
  {
   "cell_type": "code",
   "execution_count": 68,
   "metadata": {},
   "outputs": [
    {
     "output_type": "stream",
     "name": "stdout",
     "text": [
      "school        object\nsex           object\nage            int64\naddress       object\nfamsize       object\nPstatus       object\nMedu           int64\nFedu           int64\nMjob          object\nFjob          object\nreason        object\nguardian      object\ntraveltime     int64\nstudytime      int64\nfailures       int64\nschoolsup     object\nfamsup        object\npaid          object\nactivities    object\nnursery       object\nhigher        object\ninternet      object\nromantic      object\nfamrel         int64\nfreetime       int64\ngoout          int64\nDalc           int64\nWalc           int64\nhealth         int64\nabsences       int64\nG1             int64\nG2             int64\nG3             int64\ndtype: object\n"
     ]
    },
    {
     "output_type": "execute_result",
     "data": {
      "text/plain": [
       "  school sex  age address famsize Pstatus  Medu  Fedu     Mjob      Fjob  ...  \\\n",
       "0     GP   F   18       U     GT3       A     4     4  at_home   teacher  ...   \n",
       "1     GP   F   17       U     GT3       T     1     1  at_home     other  ...   \n",
       "2     GP   F   15       U     LE3       T     1     1  at_home     other  ...   \n",
       "3     GP   F   15       U     GT3       T     4     2   health  services  ...   \n",
       "4     GP   F   16       U     GT3       T     3     3    other     other  ...   \n",
       "\n",
       "  famrel freetime  goout  Dalc  Walc health absences  G1  G2  G3  \n",
       "0      4        3      4     1     1      3        6   5   6   6  \n",
       "1      5        3      3     1     1      3        4   5   5   6  \n",
       "2      4        3      2     2     3      3       10   7   8  10  \n",
       "3      3        2      2     1     1      5        2  15  14  15  \n",
       "4      4        3      2     1     2      5        4   6  10  10  \n",
       "\n",
       "[5 rows x 33 columns]"
      ],
      "text/html": "<div>\n<style scoped>\n    .dataframe tbody tr th:only-of-type {\n        vertical-align: middle;\n    }\n\n    .dataframe tbody tr th {\n        vertical-align: top;\n    }\n\n    .dataframe thead th {\n        text-align: right;\n    }\n</style>\n<table border=\"1\" class=\"dataframe\">\n  <thead>\n    <tr style=\"text-align: right;\">\n      <th></th>\n      <th>school</th>\n      <th>sex</th>\n      <th>age</th>\n      <th>address</th>\n      <th>famsize</th>\n      <th>Pstatus</th>\n      <th>Medu</th>\n      <th>Fedu</th>\n      <th>Mjob</th>\n      <th>Fjob</th>\n      <th>...</th>\n      <th>famrel</th>\n      <th>freetime</th>\n      <th>goout</th>\n      <th>Dalc</th>\n      <th>Walc</th>\n      <th>health</th>\n      <th>absences</th>\n      <th>G1</th>\n      <th>G2</th>\n      <th>G3</th>\n    </tr>\n  </thead>\n  <tbody>\n    <tr>\n      <th>0</th>\n      <td>GP</td>\n      <td>F</td>\n      <td>18</td>\n      <td>U</td>\n      <td>GT3</td>\n      <td>A</td>\n      <td>4</td>\n      <td>4</td>\n      <td>at_home</td>\n      <td>teacher</td>\n      <td>...</td>\n      <td>4</td>\n      <td>3</td>\n      <td>4</td>\n      <td>1</td>\n      <td>1</td>\n      <td>3</td>\n      <td>6</td>\n      <td>5</td>\n      <td>6</td>\n      <td>6</td>\n    </tr>\n    <tr>\n      <th>1</th>\n      <td>GP</td>\n      <td>F</td>\n      <td>17</td>\n      <td>U</td>\n      <td>GT3</td>\n      <td>T</td>\n      <td>1</td>\n      <td>1</td>\n      <td>at_home</td>\n      <td>other</td>\n      <td>...</td>\n      <td>5</td>\n      <td>3</td>\n      <td>3</td>\n      <td>1</td>\n      <td>1</td>\n      <td>3</td>\n      <td>4</td>\n      <td>5</td>\n      <td>5</td>\n      <td>6</td>\n    </tr>\n    <tr>\n      <th>2</th>\n      <td>GP</td>\n      <td>F</td>\n      <td>15</td>\n      <td>U</td>\n      <td>LE3</td>\n      <td>T</td>\n      <td>1</td>\n      <td>1</td>\n      <td>at_home</td>\n      <td>other</td>\n      <td>...</td>\n      <td>4</td>\n      <td>3</td>\n      <td>2</td>\n      <td>2</td>\n      <td>3</td>\n      <td>3</td>\n      <td>10</td>\n      <td>7</td>\n      <td>8</td>\n      <td>10</td>\n    </tr>\n    <tr>\n      <th>3</th>\n      <td>GP</td>\n      <td>F</td>\n      <td>15</td>\n      <td>U</td>\n      <td>GT3</td>\n      <td>T</td>\n      <td>4</td>\n      <td>2</td>\n      <td>health</td>\n      <td>services</td>\n      <td>...</td>\n      <td>3</td>\n      <td>2</td>\n      <td>2</td>\n      <td>1</td>\n      <td>1</td>\n      <td>5</td>\n      <td>2</td>\n      <td>15</td>\n      <td>14</td>\n      <td>15</td>\n    </tr>\n    <tr>\n      <th>4</th>\n      <td>GP</td>\n      <td>F</td>\n      <td>16</td>\n      <td>U</td>\n      <td>GT3</td>\n      <td>T</td>\n      <td>3</td>\n      <td>3</td>\n      <td>other</td>\n      <td>other</td>\n      <td>...</td>\n      <td>4</td>\n      <td>3</td>\n      <td>2</td>\n      <td>1</td>\n      <td>2</td>\n      <td>5</td>\n      <td>4</td>\n      <td>6</td>\n      <td>10</td>\n      <td>10</td>\n    </tr>\n  </tbody>\n</table>\n<p>5 rows × 33 columns</p>\n</div>"
     },
     "metadata": {},
     "execution_count": 68
    }
   ],
   "source": [
    "import pandas as pd\n",
    "from scipy.stats import chi2_contingency\n",
    "\n",
    "df=pd.read_csv(\"student-mat.csv\",sep=\";\")\n",
    "\n",
    "print(df.dtypes)\n",
    "df.head()"
   ]
  },
  {
   "cell_type": "code",
   "execution_count": 69,
   "metadata": {},
   "outputs": [
    {
     "output_type": "execute_result",
     "data": {
      "text/plain": [
       "                 age      Medu      Fedu  traveltime  studytime  failures  \\\n",
       "age         1.000000 -0.163658 -0.163438    0.070641  -0.004140  0.243665   \n",
       "Medu       -0.163658  1.000000  0.623455   -0.171639   0.064944 -0.236680   \n",
       "Fedu       -0.163438  0.623455  1.000000   -0.158194  -0.009175 -0.250408   \n",
       "traveltime  0.070641 -0.171639 -0.158194    1.000000  -0.100909  0.092239   \n",
       "studytime  -0.004140  0.064944 -0.009175   -0.100909   1.000000 -0.173563   \n",
       "failures    0.243665 -0.236680 -0.250408    0.092239  -0.173563  1.000000   \n",
       "famrel      0.053940 -0.003914 -0.001370   -0.016808   0.039731 -0.044337   \n",
       "freetime    0.016434  0.030891 -0.012846   -0.017025  -0.143198  0.091987   \n",
       "goout       0.126964  0.064094  0.043105    0.028540  -0.063904  0.124561   \n",
       "Dalc        0.131125  0.019834  0.002386    0.138325  -0.196019  0.136047   \n",
       "Walc        0.117276 -0.047123 -0.012631    0.134116  -0.253785  0.141962   \n",
       "health     -0.062187 -0.046878  0.014742    0.007501  -0.075616  0.065827   \n",
       "absences    0.175230  0.100285  0.024473   -0.012944  -0.062700  0.063726   \n",
       "G1         -0.064081  0.205341  0.190270   -0.093040   0.160612 -0.354718   \n",
       "G2         -0.143474  0.215527  0.164893   -0.153198   0.135880 -0.355896   \n",
       "G3         -0.161579  0.217147  0.152457   -0.117142   0.097820 -0.360415   \n",
       "\n",
       "              famrel  freetime     goout      Dalc      Walc    health  \\\n",
       "age         0.053940  0.016434  0.126964  0.131125  0.117276 -0.062187   \n",
       "Medu       -0.003914  0.030891  0.064094  0.019834 -0.047123 -0.046878   \n",
       "Fedu       -0.001370 -0.012846  0.043105  0.002386 -0.012631  0.014742   \n",
       "traveltime -0.016808 -0.017025  0.028540  0.138325  0.134116  0.007501   \n",
       "studytime   0.039731 -0.143198 -0.063904 -0.196019 -0.253785 -0.075616   \n",
       "failures   -0.044337  0.091987  0.124561  0.136047  0.141962  0.065827   \n",
       "famrel      1.000000  0.150701  0.064568 -0.077594 -0.113397  0.094056   \n",
       "freetime    0.150701  1.000000  0.285019  0.209001  0.147822  0.075733   \n",
       "goout       0.064568  0.285019  1.000000  0.266994  0.420386 -0.009577   \n",
       "Dalc       -0.077594  0.209001  0.266994  1.000000  0.647544  0.077180   \n",
       "Walc       -0.113397  0.147822  0.420386  0.647544  1.000000  0.092476   \n",
       "health      0.094056  0.075733 -0.009577  0.077180  0.092476  1.000000   \n",
       "absences   -0.044354 -0.058078  0.044302  0.111908  0.136291 -0.029937   \n",
       "G1          0.022168  0.012613 -0.149104 -0.094159 -0.126179 -0.073172   \n",
       "G2         -0.018281 -0.013777 -0.162250 -0.064120 -0.084927 -0.097720   \n",
       "G3          0.051363  0.011307 -0.132791 -0.054660 -0.051939 -0.061335   \n",
       "\n",
       "            absences        G1        G2        G3  \n",
       "age         0.175230 -0.064081 -0.143474 -0.161579  \n",
       "Medu        0.100285  0.205341  0.215527  0.217147  \n",
       "Fedu        0.024473  0.190270  0.164893  0.152457  \n",
       "traveltime -0.012944 -0.093040 -0.153198 -0.117142  \n",
       "studytime  -0.062700  0.160612  0.135880  0.097820  \n",
       "failures    0.063726 -0.354718 -0.355896 -0.360415  \n",
       "famrel     -0.044354  0.022168 -0.018281  0.051363  \n",
       "freetime   -0.058078  0.012613 -0.013777  0.011307  \n",
       "goout       0.044302 -0.149104 -0.162250 -0.132791  \n",
       "Dalc        0.111908 -0.094159 -0.064120 -0.054660  \n",
       "Walc        0.136291 -0.126179 -0.084927 -0.051939  \n",
       "health     -0.029937 -0.073172 -0.097720 -0.061335  \n",
       "absences    1.000000 -0.031003 -0.031777  0.034247  \n",
       "G1         -0.031003  1.000000  0.852118  0.801468  \n",
       "G2         -0.031777  0.852118  1.000000  0.904868  \n",
       "G3          0.034247  0.801468  0.904868  1.000000  "
      ],
      "text/html": "<div>\n<style scoped>\n    .dataframe tbody tr th:only-of-type {\n        vertical-align: middle;\n    }\n\n    .dataframe tbody tr th {\n        vertical-align: top;\n    }\n\n    .dataframe thead th {\n        text-align: right;\n    }\n</style>\n<table border=\"1\" class=\"dataframe\">\n  <thead>\n    <tr style=\"text-align: right;\">\n      <th></th>\n      <th>age</th>\n      <th>Medu</th>\n      <th>Fedu</th>\n      <th>traveltime</th>\n      <th>studytime</th>\n      <th>failures</th>\n      <th>famrel</th>\n      <th>freetime</th>\n      <th>goout</th>\n      <th>Dalc</th>\n      <th>Walc</th>\n      <th>health</th>\n      <th>absences</th>\n      <th>G1</th>\n      <th>G2</th>\n      <th>G3</th>\n    </tr>\n  </thead>\n  <tbody>\n    <tr>\n      <th>age</th>\n      <td>1.000000</td>\n      <td>-0.163658</td>\n      <td>-0.163438</td>\n      <td>0.070641</td>\n      <td>-0.004140</td>\n      <td>0.243665</td>\n      <td>0.053940</td>\n      <td>0.016434</td>\n      <td>0.126964</td>\n      <td>0.131125</td>\n      <td>0.117276</td>\n      <td>-0.062187</td>\n      <td>0.175230</td>\n      <td>-0.064081</td>\n      <td>-0.143474</td>\n      <td>-0.161579</td>\n    </tr>\n    <tr>\n      <th>Medu</th>\n      <td>-0.163658</td>\n      <td>1.000000</td>\n      <td>0.623455</td>\n      <td>-0.171639</td>\n      <td>0.064944</td>\n      <td>-0.236680</td>\n      <td>-0.003914</td>\n      <td>0.030891</td>\n      <td>0.064094</td>\n      <td>0.019834</td>\n      <td>-0.047123</td>\n      <td>-0.046878</td>\n      <td>0.100285</td>\n      <td>0.205341</td>\n      <td>0.215527</td>\n      <td>0.217147</td>\n    </tr>\n    <tr>\n      <th>Fedu</th>\n      <td>-0.163438</td>\n      <td>0.623455</td>\n      <td>1.000000</td>\n      <td>-0.158194</td>\n      <td>-0.009175</td>\n      <td>-0.250408</td>\n      <td>-0.001370</td>\n      <td>-0.012846</td>\n      <td>0.043105</td>\n      <td>0.002386</td>\n      <td>-0.012631</td>\n      <td>0.014742</td>\n      <td>0.024473</td>\n      <td>0.190270</td>\n      <td>0.164893</td>\n      <td>0.152457</td>\n    </tr>\n    <tr>\n      <th>traveltime</th>\n      <td>0.070641</td>\n      <td>-0.171639</td>\n      <td>-0.158194</td>\n      <td>1.000000</td>\n      <td>-0.100909</td>\n      <td>0.092239</td>\n      <td>-0.016808</td>\n      <td>-0.017025</td>\n      <td>0.028540</td>\n      <td>0.138325</td>\n      <td>0.134116</td>\n      <td>0.007501</td>\n      <td>-0.012944</td>\n      <td>-0.093040</td>\n      <td>-0.153198</td>\n      <td>-0.117142</td>\n    </tr>\n    <tr>\n      <th>studytime</th>\n      <td>-0.004140</td>\n      <td>0.064944</td>\n      <td>-0.009175</td>\n      <td>-0.100909</td>\n      <td>1.000000</td>\n      <td>-0.173563</td>\n      <td>0.039731</td>\n      <td>-0.143198</td>\n      <td>-0.063904</td>\n      <td>-0.196019</td>\n      <td>-0.253785</td>\n      <td>-0.075616</td>\n      <td>-0.062700</td>\n      <td>0.160612</td>\n      <td>0.135880</td>\n      <td>0.097820</td>\n    </tr>\n    <tr>\n      <th>failures</th>\n      <td>0.243665</td>\n      <td>-0.236680</td>\n      <td>-0.250408</td>\n      <td>0.092239</td>\n      <td>-0.173563</td>\n      <td>1.000000</td>\n      <td>-0.044337</td>\n      <td>0.091987</td>\n      <td>0.124561</td>\n      <td>0.136047</td>\n      <td>0.141962</td>\n      <td>0.065827</td>\n      <td>0.063726</td>\n      <td>-0.354718</td>\n      <td>-0.355896</td>\n      <td>-0.360415</td>\n    </tr>\n    <tr>\n      <th>famrel</th>\n      <td>0.053940</td>\n      <td>-0.003914</td>\n      <td>-0.001370</td>\n      <td>-0.016808</td>\n      <td>0.039731</td>\n      <td>-0.044337</td>\n      <td>1.000000</td>\n      <td>0.150701</td>\n      <td>0.064568</td>\n      <td>-0.077594</td>\n      <td>-0.113397</td>\n      <td>0.094056</td>\n      <td>-0.044354</td>\n      <td>0.022168</td>\n      <td>-0.018281</td>\n      <td>0.051363</td>\n    </tr>\n    <tr>\n      <th>freetime</th>\n      <td>0.016434</td>\n      <td>0.030891</td>\n      <td>-0.012846</td>\n      <td>-0.017025</td>\n      <td>-0.143198</td>\n      <td>0.091987</td>\n      <td>0.150701</td>\n      <td>1.000000</td>\n      <td>0.285019</td>\n      <td>0.209001</td>\n      <td>0.147822</td>\n      <td>0.075733</td>\n      <td>-0.058078</td>\n      <td>0.012613</td>\n      <td>-0.013777</td>\n      <td>0.011307</td>\n    </tr>\n    <tr>\n      <th>goout</th>\n      <td>0.126964</td>\n      <td>0.064094</td>\n      <td>0.043105</td>\n      <td>0.028540</td>\n      <td>-0.063904</td>\n      <td>0.124561</td>\n      <td>0.064568</td>\n      <td>0.285019</td>\n      <td>1.000000</td>\n      <td>0.266994</td>\n      <td>0.420386</td>\n      <td>-0.009577</td>\n      <td>0.044302</td>\n      <td>-0.149104</td>\n      <td>-0.162250</td>\n      <td>-0.132791</td>\n    </tr>\n    <tr>\n      <th>Dalc</th>\n      <td>0.131125</td>\n      <td>0.019834</td>\n      <td>0.002386</td>\n      <td>0.138325</td>\n      <td>-0.196019</td>\n      <td>0.136047</td>\n      <td>-0.077594</td>\n      <td>0.209001</td>\n      <td>0.266994</td>\n      <td>1.000000</td>\n      <td>0.647544</td>\n      <td>0.077180</td>\n      <td>0.111908</td>\n      <td>-0.094159</td>\n      <td>-0.064120</td>\n      <td>-0.054660</td>\n    </tr>\n    <tr>\n      <th>Walc</th>\n      <td>0.117276</td>\n      <td>-0.047123</td>\n      <td>-0.012631</td>\n      <td>0.134116</td>\n      <td>-0.253785</td>\n      <td>0.141962</td>\n      <td>-0.113397</td>\n      <td>0.147822</td>\n      <td>0.420386</td>\n      <td>0.647544</td>\n      <td>1.000000</td>\n      <td>0.092476</td>\n      <td>0.136291</td>\n      <td>-0.126179</td>\n      <td>-0.084927</td>\n      <td>-0.051939</td>\n    </tr>\n    <tr>\n      <th>health</th>\n      <td>-0.062187</td>\n      <td>-0.046878</td>\n      <td>0.014742</td>\n      <td>0.007501</td>\n      <td>-0.075616</td>\n      <td>0.065827</td>\n      <td>0.094056</td>\n      <td>0.075733</td>\n      <td>-0.009577</td>\n      <td>0.077180</td>\n      <td>0.092476</td>\n      <td>1.000000</td>\n      <td>-0.029937</td>\n      <td>-0.073172</td>\n      <td>-0.097720</td>\n      <td>-0.061335</td>\n    </tr>\n    <tr>\n      <th>absences</th>\n      <td>0.175230</td>\n      <td>0.100285</td>\n      <td>0.024473</td>\n      <td>-0.012944</td>\n      <td>-0.062700</td>\n      <td>0.063726</td>\n      <td>-0.044354</td>\n      <td>-0.058078</td>\n      <td>0.044302</td>\n      <td>0.111908</td>\n      <td>0.136291</td>\n      <td>-0.029937</td>\n      <td>1.000000</td>\n      <td>-0.031003</td>\n      <td>-0.031777</td>\n      <td>0.034247</td>\n    </tr>\n    <tr>\n      <th>G1</th>\n      <td>-0.064081</td>\n      <td>0.205341</td>\n      <td>0.190270</td>\n      <td>-0.093040</td>\n      <td>0.160612</td>\n      <td>-0.354718</td>\n      <td>0.022168</td>\n      <td>0.012613</td>\n      <td>-0.149104</td>\n      <td>-0.094159</td>\n      <td>-0.126179</td>\n      <td>-0.073172</td>\n      <td>-0.031003</td>\n      <td>1.000000</td>\n      <td>0.852118</td>\n      <td>0.801468</td>\n    </tr>\n    <tr>\n      <th>G2</th>\n      <td>-0.143474</td>\n      <td>0.215527</td>\n      <td>0.164893</td>\n      <td>-0.153198</td>\n      <td>0.135880</td>\n      <td>-0.355896</td>\n      <td>-0.018281</td>\n      <td>-0.013777</td>\n      <td>-0.162250</td>\n      <td>-0.064120</td>\n      <td>-0.084927</td>\n      <td>-0.097720</td>\n      <td>-0.031777</td>\n      <td>0.852118</td>\n      <td>1.000000</td>\n      <td>0.904868</td>\n    </tr>\n    <tr>\n      <th>G3</th>\n      <td>-0.161579</td>\n      <td>0.217147</td>\n      <td>0.152457</td>\n      <td>-0.117142</td>\n      <td>0.097820</td>\n      <td>-0.360415</td>\n      <td>0.051363</td>\n      <td>0.011307</td>\n      <td>-0.132791</td>\n      <td>-0.054660</td>\n      <td>-0.051939</td>\n      <td>-0.061335</td>\n      <td>0.034247</td>\n      <td>0.801468</td>\n      <td>0.904868</td>\n      <td>1.000000</td>\n    </tr>\n  </tbody>\n</table>\n</div>"
     },
     "metadata": {},
     "execution_count": 69
    }
   ],
   "source": [
    "df.corr()"
   ]
  },
  {
   "cell_type": "code",
   "execution_count": 70,
   "metadata": {},
   "outputs": [],
   "source": [
    "revMerkmale = [\"address\",\"reason\",\"traveltime\",\"studytime\",\"failures\",\"schoolsup\",\"famsup\",\"paid\",\"activities\",\"nursery\",\"higher\",\"internet\",\"freetime\",\"goout\",\"Dalc\",\"Walc\",\"health\",\"absences\",\"G3\"]\n",
    "\n",
    "ohneG3 = [\"address\",\"reason\",\"traveltime\",\"studytime\",\"failures\",\"schoolsup\",\"famsup\",\"paid\",\"activities\",\"nursery\",\"higher\",\"internet\",\"freetime\",\"goout\",\"Dalc\",\"Walc\",\"health\",\"absences\"]"
   ]
  },
  {
   "source": [
    "## P-Wert\n",
    "### <0,05 ist statistisch signifikant\n",
    "### >0,95 Gegenhypothese statistisch signifikant\n",
    "\n",
    "## Corr-Coefizient\n",
    "### >0 Wert 1 steigt, Wert 2 steigt\n",
    "### <0 Wert 1 sinkt, Wert 2 sinkt"
   ],
   "cell_type": "markdown",
   "metadata": {}
  },
  {
   "cell_type": "code",
   "execution_count": 38,
   "metadata": {},
   "outputs": [
    {
     "output_type": "execute_result",
     "data": {
      "text/plain": [
       "(-0.16157943813834016, 0.0012714385457179103)"
      ]
     },
     "metadata": {},
     "execution_count": 38
    }
   ],
   "source": [
    "corr = stats.pearsonr(df.age, df.G3)\n",
    "corr\n",
    "\n",
    "# CorCoeffizent | P-Wert"
   ]
  },
  {
   "cell_type": "code",
   "execution_count": 73,
   "metadata": {},
   "outputs": [],
   "source": [
    "def chisquare(var, dep_var, df_name = df):\n",
    "    contingencyTable = pd.crosstab(df_name[var], df_name[dep_var])\n",
    "    chi2, pval, dof, expectedFreq = chi2_contingency(contingencyTable)\n",
    "\n",
    "    #show pval in non-scienetific expression\n",
    "    print(\"testvar:\",var,\"\\nchi2=\",chi2,\"\\npval=\",f'{pval}',\"\\ndof=\",dof)\n",
    "\n",
    "    return contingencyTable"
   ]
  },
  {
   "cell_type": "code",
   "execution_count": 74,
   "metadata": {},
   "outputs": [
    {
     "output_type": "stream",
     "name": "stdout",
     "text": [
      "testvar: reason \nchi2= 51.4483734229257 \npval= 0.4560900441274288 \ndof= 51\n"
     ]
    },
    {
     "output_type": "execute_result",
     "data": {
      "text/plain": [
       "G3          0   4   5   6   7   8   9   10  11  12  13  14  15  16  17  18  \\\n",
       "reason                                                                       \n",
       "course      19   0   4   5   4  12  12  17  17  15  10   5  11   7   0   5   \n",
       "home        12   0   1   4   0  11   8  17  16   5   9   7   8   5   1   4   \n",
       "other        1   0   1   1   2   3   1   7   4   2   6   1   3   1   2   0   \n",
       "reputation   6   1   1   5   3   6   7  15  10   9   6  14  11   3   3   3   \n",
       "\n",
       "G3          19  20  \n",
       "reason              \n",
       "course       2   0  \n",
       "home         1   0  \n",
       "other        1   0  \n",
       "reputation   1   1  "
      ],
      "text/html": "<div>\n<style scoped>\n    .dataframe tbody tr th:only-of-type {\n        vertical-align: middle;\n    }\n\n    .dataframe tbody tr th {\n        vertical-align: top;\n    }\n\n    .dataframe thead th {\n        text-align: right;\n    }\n</style>\n<table border=\"1\" class=\"dataframe\">\n  <thead>\n    <tr style=\"text-align: right;\">\n      <th>G3</th>\n      <th>0</th>\n      <th>4</th>\n      <th>5</th>\n      <th>6</th>\n      <th>7</th>\n      <th>8</th>\n      <th>9</th>\n      <th>10</th>\n      <th>11</th>\n      <th>12</th>\n      <th>13</th>\n      <th>14</th>\n      <th>15</th>\n      <th>16</th>\n      <th>17</th>\n      <th>18</th>\n      <th>19</th>\n      <th>20</th>\n    </tr>\n    <tr>\n      <th>reason</th>\n      <th></th>\n      <th></th>\n      <th></th>\n      <th></th>\n      <th></th>\n      <th></th>\n      <th></th>\n      <th></th>\n      <th></th>\n      <th></th>\n      <th></th>\n      <th></th>\n      <th></th>\n      <th></th>\n      <th></th>\n      <th></th>\n      <th></th>\n      <th></th>\n    </tr>\n  </thead>\n  <tbody>\n    <tr>\n      <th>course</th>\n      <td>19</td>\n      <td>0</td>\n      <td>4</td>\n      <td>5</td>\n      <td>4</td>\n      <td>12</td>\n      <td>12</td>\n      <td>17</td>\n      <td>17</td>\n      <td>15</td>\n      <td>10</td>\n      <td>5</td>\n      <td>11</td>\n      <td>7</td>\n      <td>0</td>\n      <td>5</td>\n      <td>2</td>\n      <td>0</td>\n    </tr>\n    <tr>\n      <th>home</th>\n      <td>12</td>\n      <td>0</td>\n      <td>1</td>\n      <td>4</td>\n      <td>0</td>\n      <td>11</td>\n      <td>8</td>\n      <td>17</td>\n      <td>16</td>\n      <td>5</td>\n      <td>9</td>\n      <td>7</td>\n      <td>8</td>\n      <td>5</td>\n      <td>1</td>\n      <td>4</td>\n      <td>1</td>\n      <td>0</td>\n    </tr>\n    <tr>\n      <th>other</th>\n      <td>1</td>\n      <td>0</td>\n      <td>1</td>\n      <td>1</td>\n      <td>2</td>\n      <td>3</td>\n      <td>1</td>\n      <td>7</td>\n      <td>4</td>\n      <td>2</td>\n      <td>6</td>\n      <td>1</td>\n      <td>3</td>\n      <td>1</td>\n      <td>2</td>\n      <td>0</td>\n      <td>1</td>\n      <td>0</td>\n    </tr>\n    <tr>\n      <th>reputation</th>\n      <td>6</td>\n      <td>1</td>\n      <td>1</td>\n      <td>5</td>\n      <td>3</td>\n      <td>6</td>\n      <td>7</td>\n      <td>15</td>\n      <td>10</td>\n      <td>9</td>\n      <td>6</td>\n      <td>14</td>\n      <td>11</td>\n      <td>3</td>\n      <td>3</td>\n      <td>3</td>\n      <td>1</td>\n      <td>1</td>\n    </tr>\n  </tbody>\n</table>\n</div>"
     },
     "metadata": {},
     "execution_count": 74
    }
   ],
   "source": [
    "chisquare(\"reason\",\"G3\")"
   ]
  },
  {
   "cell_type": "code",
   "execution_count": 81,
   "metadata": {},
   "outputs": [],
   "source": [
    "def rp_chisquare(var, dep_var, df_name = df):\n",
    "    contingencyTable = pd.crosstab(df_name[var], df_name[dep_var])\n",
    "    chi2, pval, dof, expectedFreq = chi2_contingency(contingencyTable)\n",
    "\n",
    "    #show pval in non-scienetific expression\n",
    "    return [round(chi2,5) , round(pval,5)]"
   ]
  },
  {
   "cell_type": "code",
   "execution_count": 82,
   "metadata": {},
   "outputs": [
    {
     "output_type": "execute_result",
     "data": {
      "text/plain": [
       "[51.44837, 0.45609]"
      ]
     },
     "metadata": {},
     "execution_count": 82
    }
   ],
   "source": [
    "rp_chisquare(\"reason\",\"G3\")"
   ]
  },
  {
   "cell_type": "code",
   "execution_count": 83,
   "metadata": {},
   "outputs": [
    {
     "output_type": "execute_result",
     "data": {
      "text/plain": [
       "                 Chi2        P\n",
       "address      26.37573  0.06788\n",
       "reason       51.44837  0.45609\n",
       "traveltime   32.82571  0.97750\n",
       "studytime    59.43163  0.19544\n",
       "failures    132.33841  0.00000\n",
       "schoolsup    32.51748  0.01297\n",
       "famsup       13.69188  0.68878\n",
       "paid         29.77248  0.02803\n",
       "activities   15.47636  0.56121\n",
       "nursery      16.07837  0.51829\n",
       "higher       24.38095  0.10945\n",
       "internet     17.94941  0.39204\n",
       "freetime     63.34439  0.63727\n",
       "goout        75.34587  0.25294\n",
       "Dalc         76.88157  0.21554\n",
       "Walc         79.40705  0.16239\n",
       "health       69.21650  0.43612\n",
       "absences    810.70583  0.00000"
      ],
      "text/html": "<div>\n<style scoped>\n    .dataframe tbody tr th:only-of-type {\n        vertical-align: middle;\n    }\n\n    .dataframe tbody tr th {\n        vertical-align: top;\n    }\n\n    .dataframe thead th {\n        text-align: right;\n    }\n</style>\n<table border=\"1\" class=\"dataframe\">\n  <thead>\n    <tr style=\"text-align: right;\">\n      <th></th>\n      <th>Chi2</th>\n      <th>P</th>\n    </tr>\n  </thead>\n  <tbody>\n    <tr>\n      <th>address</th>\n      <td>26.37573</td>\n      <td>0.06788</td>\n    </tr>\n    <tr>\n      <th>reason</th>\n      <td>51.44837</td>\n      <td>0.45609</td>\n    </tr>\n    <tr>\n      <th>traveltime</th>\n      <td>32.82571</td>\n      <td>0.97750</td>\n    </tr>\n    <tr>\n      <th>studytime</th>\n      <td>59.43163</td>\n      <td>0.19544</td>\n    </tr>\n    <tr>\n      <th>failures</th>\n      <td>132.33841</td>\n      <td>0.00000</td>\n    </tr>\n    <tr>\n      <th>schoolsup</th>\n      <td>32.51748</td>\n      <td>0.01297</td>\n    </tr>\n    <tr>\n      <th>famsup</th>\n      <td>13.69188</td>\n      <td>0.68878</td>\n    </tr>\n    <tr>\n      <th>paid</th>\n      <td>29.77248</td>\n      <td>0.02803</td>\n    </tr>\n    <tr>\n      <th>activities</th>\n      <td>15.47636</td>\n      <td>0.56121</td>\n    </tr>\n    <tr>\n      <th>nursery</th>\n      <td>16.07837</td>\n      <td>0.51829</td>\n    </tr>\n    <tr>\n      <th>higher</th>\n      <td>24.38095</td>\n      <td>0.10945</td>\n    </tr>\n    <tr>\n      <th>internet</th>\n      <td>17.94941</td>\n      <td>0.39204</td>\n    </tr>\n    <tr>\n      <th>freetime</th>\n      <td>63.34439</td>\n      <td>0.63727</td>\n    </tr>\n    <tr>\n      <th>goout</th>\n      <td>75.34587</td>\n      <td>0.25294</td>\n    </tr>\n    <tr>\n      <th>Dalc</th>\n      <td>76.88157</td>\n      <td>0.21554</td>\n    </tr>\n    <tr>\n      <th>Walc</th>\n      <td>79.40705</td>\n      <td>0.16239</td>\n    </tr>\n    <tr>\n      <th>health</th>\n      <td>69.21650</td>\n      <td>0.43612</td>\n    </tr>\n    <tr>\n      <th>absences</th>\n      <td>810.70583</td>\n      <td>0.00000</td>\n    </tr>\n  </tbody>\n</table>\n</div>"
     },
     "metadata": {},
     "execution_count": 83
    }
   ],
   "source": [
    "corr_df = pd.DataFrame(columns=[\"Chi2\",\"P\"])\n",
    "for col in ohneG3:\n",
    "    corr_df.loc[col] = rp_chisquare(col, \"G3\")\n",
    "\n",
    "corr_df"
   ]
  },
  {
   "cell_type": "code",
   "execution_count": 87,
   "metadata": {},
   "outputs": [
    {
     "output_type": "execute_result",
     "data": {
      "text/plain": [
       "                 Chi2        P\n",
       "traveltime   32.82571  0.97750\n",
       "failures    132.33841  0.00000\n",
       "schoolsup    32.51748  0.01297\n",
       "paid         29.77248  0.02803\n",
       "absences    810.70583  0.00000"
      ],
      "text/html": "<div>\n<style scoped>\n    .dataframe tbody tr th:only-of-type {\n        vertical-align: middle;\n    }\n\n    .dataframe tbody tr th {\n        vertical-align: top;\n    }\n\n    .dataframe thead th {\n        text-align: right;\n    }\n</style>\n<table border=\"1\" class=\"dataframe\">\n  <thead>\n    <tr style=\"text-align: right;\">\n      <th></th>\n      <th>Chi2</th>\n      <th>P</th>\n    </tr>\n  </thead>\n  <tbody>\n    <tr>\n      <th>traveltime</th>\n      <td>32.82571</td>\n      <td>0.97750</td>\n    </tr>\n    <tr>\n      <th>failures</th>\n      <td>132.33841</td>\n      <td>0.00000</td>\n    </tr>\n    <tr>\n      <th>schoolsup</th>\n      <td>32.51748</td>\n      <td>0.01297</td>\n    </tr>\n    <tr>\n      <th>paid</th>\n      <td>29.77248</td>\n      <td>0.02803</td>\n    </tr>\n    <tr>\n      <th>absences</th>\n      <td>810.70583</td>\n      <td>0.00000</td>\n    </tr>\n  </tbody>\n</table>\n</div>"
     },
     "metadata": {},
     "execution_count": 87
    }
   ],
   "source": [
    "corr_df.loc[(corr_df.P>0.95)|(corr_df.P<0.05)]"
   ]
  },
  {
   "cell_type": "code",
   "execution_count": null,
   "metadata": {},
   "outputs": [],
   "source": []
  }
 ]
}