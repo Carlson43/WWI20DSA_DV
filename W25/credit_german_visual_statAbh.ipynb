{
 "cells": [
  {
   "cell_type": "code",
   "execution_count": 7,
   "metadata": {
    "scrolled": true
   },
   "outputs": [
    {
     "name": "stdout",
     "output_type": "stream",
     "text": [
      "checking account      object\n",
      "duration [month]       int64\n",
      "credit history        object\n",
      "purpose               object\n",
      "amount                 int64\n",
      "savings               object\n",
      "employment            object\n",
      "installment            int64\n",
      "status                object\n",
      "debtors               object\n",
      "resident since         int64\n",
      "property              object\n",
      "age [years]            int64\n",
      "plans                 object\n",
      "housing               object\n",
      "existing credits       int64\n",
      "job                   object\n",
      "maintaining people     int64\n",
      "phone registered      object\n",
      "foreign worker        object\n",
      "classification        object\n",
      "dtype: object\n"
     ]
    },
    {
     "data": {
      "text/html": [
       "<div>\n",
       "<style scoped>\n",
       "    .dataframe tbody tr th:only-of-type {\n",
       "        vertical-align: middle;\n",
       "    }\n",
       "\n",
       "    .dataframe tbody tr th {\n",
       "        vertical-align: top;\n",
       "    }\n",
       "\n",
       "    .dataframe thead th {\n",
       "        text-align: right;\n",
       "    }\n",
       "</style>\n",
       "<table border=\"1\" class=\"dataframe\">\n",
       "  <thead>\n",
       "    <tr style=\"text-align: right;\">\n",
       "      <th></th>\n",
       "      <th>checking account</th>\n",
       "      <th>duration [month]</th>\n",
       "      <th>credit history</th>\n",
       "      <th>purpose</th>\n",
       "      <th>amount</th>\n",
       "      <th>savings</th>\n",
       "      <th>employment</th>\n",
       "      <th>installment</th>\n",
       "      <th>status</th>\n",
       "      <th>debtors</th>\n",
       "      <th>...</th>\n",
       "      <th>property</th>\n",
       "      <th>age [years]</th>\n",
       "      <th>plans</th>\n",
       "      <th>housing</th>\n",
       "      <th>existing credits</th>\n",
       "      <th>job</th>\n",
       "      <th>maintaining people</th>\n",
       "      <th>phone registered</th>\n",
       "      <th>foreign worker</th>\n",
       "      <th>classification</th>\n",
       "    </tr>\n",
       "  </thead>\n",
       "  <tbody>\n",
       "    <tr>\n",
       "      <th>0</th>\n",
       "      <td>A11</td>\n",
       "      <td>6</td>\n",
       "      <td>A34</td>\n",
       "      <td>A43</td>\n",
       "      <td>1169</td>\n",
       "      <td>A65</td>\n",
       "      <td>A75</td>\n",
       "      <td>4</td>\n",
       "      <td>A93</td>\n",
       "      <td>A101</td>\n",
       "      <td>...</td>\n",
       "      <td>A121</td>\n",
       "      <td>67</td>\n",
       "      <td>A143</td>\n",
       "      <td>A152</td>\n",
       "      <td>2</td>\n",
       "      <td>A173</td>\n",
       "      <td>1</td>\n",
       "      <td>A192</td>\n",
       "      <td>A201</td>\n",
       "      <td>good</td>\n",
       "    </tr>\n",
       "    <tr>\n",
       "      <th>1</th>\n",
       "      <td>A12</td>\n",
       "      <td>48</td>\n",
       "      <td>A32</td>\n",
       "      <td>A43</td>\n",
       "      <td>5951</td>\n",
       "      <td>A61</td>\n",
       "      <td>A73</td>\n",
       "      <td>2</td>\n",
       "      <td>A92</td>\n",
       "      <td>A101</td>\n",
       "      <td>...</td>\n",
       "      <td>A121</td>\n",
       "      <td>22</td>\n",
       "      <td>A143</td>\n",
       "      <td>A152</td>\n",
       "      <td>1</td>\n",
       "      <td>A173</td>\n",
       "      <td>1</td>\n",
       "      <td>A191</td>\n",
       "      <td>A201</td>\n",
       "      <td>bad</td>\n",
       "    </tr>\n",
       "    <tr>\n",
       "      <th>2</th>\n",
       "      <td>A14</td>\n",
       "      <td>12</td>\n",
       "      <td>A34</td>\n",
       "      <td>A46</td>\n",
       "      <td>2096</td>\n",
       "      <td>A61</td>\n",
       "      <td>A74</td>\n",
       "      <td>2</td>\n",
       "      <td>A93</td>\n",
       "      <td>A101</td>\n",
       "      <td>...</td>\n",
       "      <td>A121</td>\n",
       "      <td>49</td>\n",
       "      <td>A143</td>\n",
       "      <td>A152</td>\n",
       "      <td>1</td>\n",
       "      <td>A172</td>\n",
       "      <td>2</td>\n",
       "      <td>A191</td>\n",
       "      <td>A201</td>\n",
       "      <td>good</td>\n",
       "    </tr>\n",
       "    <tr>\n",
       "      <th>3</th>\n",
       "      <td>A11</td>\n",
       "      <td>42</td>\n",
       "      <td>A32</td>\n",
       "      <td>A42</td>\n",
       "      <td>7882</td>\n",
       "      <td>A61</td>\n",
       "      <td>A74</td>\n",
       "      <td>2</td>\n",
       "      <td>A93</td>\n",
       "      <td>A103</td>\n",
       "      <td>...</td>\n",
       "      <td>A122</td>\n",
       "      <td>45</td>\n",
       "      <td>A143</td>\n",
       "      <td>A153</td>\n",
       "      <td>1</td>\n",
       "      <td>A173</td>\n",
       "      <td>2</td>\n",
       "      <td>A191</td>\n",
       "      <td>A201</td>\n",
       "      <td>good</td>\n",
       "    </tr>\n",
       "    <tr>\n",
       "      <th>4</th>\n",
       "      <td>A11</td>\n",
       "      <td>24</td>\n",
       "      <td>A33</td>\n",
       "      <td>A40</td>\n",
       "      <td>4870</td>\n",
       "      <td>A61</td>\n",
       "      <td>A73</td>\n",
       "      <td>3</td>\n",
       "      <td>A93</td>\n",
       "      <td>A101</td>\n",
       "      <td>...</td>\n",
       "      <td>A124</td>\n",
       "      <td>53</td>\n",
       "      <td>A143</td>\n",
       "      <td>A153</td>\n",
       "      <td>2</td>\n",
       "      <td>A173</td>\n",
       "      <td>2</td>\n",
       "      <td>A191</td>\n",
       "      <td>A201</td>\n",
       "      <td>bad</td>\n",
       "    </tr>\n",
       "  </tbody>\n",
       "</table>\n",
       "<p>5 rows × 21 columns</p>\n",
       "</div>"
      ],
      "text/plain": [
       "  checking account  duration [month] credit history purpose  amount savings  \\\n",
       "0              A11                 6            A34     A43    1169     A65   \n",
       "1              A12                48            A32     A43    5951     A61   \n",
       "2              A14                12            A34     A46    2096     A61   \n",
       "3              A11                42            A32     A42    7882     A61   \n",
       "4              A11                24            A33     A40    4870     A61   \n",
       "\n",
       "  employment  installment status debtors  ...  property age [years]  plans  \\\n",
       "0        A75            4    A93    A101  ...      A121          67   A143   \n",
       "1        A73            2    A92    A101  ...      A121          22   A143   \n",
       "2        A74            2    A93    A101  ...      A121          49   A143   \n",
       "3        A74            2    A93    A103  ...      A122          45   A143   \n",
       "4        A73            3    A93    A101  ...      A124          53   A143   \n",
       "\n",
       "  housing existing credits   job maintaining people  phone registered  \\\n",
       "0    A152                2  A173                  1              A192   \n",
       "1    A152                1  A173                  1              A191   \n",
       "2    A152                1  A172                  2              A191   \n",
       "3    A153                1  A173                  2              A191   \n",
       "4    A153                2  A173                  2              A191   \n",
       "\n",
       "  foreign worker classification  \n",
       "0           A201           good  \n",
       "1           A201            bad  \n",
       "2           A201           good  \n",
       "3           A201           good  \n",
       "4           A201            bad  \n",
       "\n",
       "[5 rows x 21 columns]"
      ]
     },
     "execution_count": 7,
     "metadata": {},
     "output_type": "execute_result"
    }
   ],
   "source": [
    "import pandas as p\n",
    "credit=p.read_csv(\"credictcard_data_german.csv\",sep=\" \")\n",
    "print(credit.dtypes)\n",
    "credit.head()"
   ]
  },
  {
   "cell_type": "markdown",
   "metadata": {},
   "source": [
    "### A Korrelation zwischen intervallskalierten Variablen\n",
    "Erstellen Sie ein Balkendiagramm, welches die 10 stärksten Korrelationen zwischen intervallskalierten Variablen sortiert visuell darstellt (von hoher Korrelation zu niedriger Korrelation). "
   ]
  },
  {
   "cell_type": "code",
   "execution_count": 88,
   "metadata": {
    "scrolled": true
   },
   "outputs": [
    {
     "data": {
      "text/html": [
       "<div>\n",
       "<style scoped>\n",
       "    .dataframe tbody tr th:only-of-type {\n",
       "        vertical-align: middle;\n",
       "    }\n",
       "\n",
       "    .dataframe tbody tr th {\n",
       "        vertical-align: top;\n",
       "    }\n",
       "\n",
       "    .dataframe thead th {\n",
       "        text-align: right;\n",
       "    }\n",
       "</style>\n",
       "<table border=\"1\" class=\"dataframe\">\n",
       "  <thead>\n",
       "    <tr style=\"text-align: right;\">\n",
       "      <th></th>\n",
       "      <th>duration [month]</th>\n",
       "      <th>amount</th>\n",
       "      <th>installment</th>\n",
       "      <th>resident since</th>\n",
       "      <th>age [years]</th>\n",
       "      <th>existing credits</th>\n",
       "      <th>maintaining people</th>\n",
       "    </tr>\n",
       "  </thead>\n",
       "  <tbody>\n",
       "    <tr>\n",
       "      <th>duration [month]</th>\n",
       "      <td>1.000000</td>\n",
       "      <td>0.624984</td>\n",
       "      <td>0.074749</td>\n",
       "      <td>0.034067</td>\n",
       "      <td>-0.036136</td>\n",
       "      <td>-0.011284</td>\n",
       "      <td>-0.023834</td>\n",
       "    </tr>\n",
       "    <tr>\n",
       "      <th>amount</th>\n",
       "      <td>0.624984</td>\n",
       "      <td>1.000000</td>\n",
       "      <td>-0.271316</td>\n",
       "      <td>0.028926</td>\n",
       "      <td>0.032716</td>\n",
       "      <td>0.020795</td>\n",
       "      <td>0.017142</td>\n",
       "    </tr>\n",
       "    <tr>\n",
       "      <th>installment</th>\n",
       "      <td>0.074749</td>\n",
       "      <td>-0.271316</td>\n",
       "      <td>1.000000</td>\n",
       "      <td>0.049302</td>\n",
       "      <td>0.058266</td>\n",
       "      <td>0.021669</td>\n",
       "      <td>-0.071207</td>\n",
       "    </tr>\n",
       "    <tr>\n",
       "      <th>resident since</th>\n",
       "      <td>0.034067</td>\n",
       "      <td>0.028926</td>\n",
       "      <td>0.049302</td>\n",
       "      <td>1.000000</td>\n",
       "      <td>0.266419</td>\n",
       "      <td>0.089625</td>\n",
       "      <td>0.042643</td>\n",
       "    </tr>\n",
       "    <tr>\n",
       "      <th>age [years]</th>\n",
       "      <td>-0.036136</td>\n",
       "      <td>0.032716</td>\n",
       "      <td>0.058266</td>\n",
       "      <td>0.266419</td>\n",
       "      <td>1.000000</td>\n",
       "      <td>0.149254</td>\n",
       "      <td>0.118201</td>\n",
       "    </tr>\n",
       "    <tr>\n",
       "      <th>existing credits</th>\n",
       "      <td>-0.011284</td>\n",
       "      <td>0.020795</td>\n",
       "      <td>0.021669</td>\n",
       "      <td>0.089625</td>\n",
       "      <td>0.149254</td>\n",
       "      <td>1.000000</td>\n",
       "      <td>0.109667</td>\n",
       "    </tr>\n",
       "    <tr>\n",
       "      <th>maintaining people</th>\n",
       "      <td>-0.023834</td>\n",
       "      <td>0.017142</td>\n",
       "      <td>-0.071207</td>\n",
       "      <td>0.042643</td>\n",
       "      <td>0.118201</td>\n",
       "      <td>0.109667</td>\n",
       "      <td>1.000000</td>\n",
       "    </tr>\n",
       "  </tbody>\n",
       "</table>\n",
       "</div>"
      ],
      "text/plain": [
       "                    duration [month]    amount  installment  resident since  \\\n",
       "duration [month]            1.000000  0.624984     0.074749        0.034067   \n",
       "amount                      0.624984  1.000000    -0.271316        0.028926   \n",
       "installment                 0.074749 -0.271316     1.000000        0.049302   \n",
       "resident since              0.034067  0.028926     0.049302        1.000000   \n",
       "age [years]                -0.036136  0.032716     0.058266        0.266419   \n",
       "existing credits           -0.011284  0.020795     0.021669        0.089625   \n",
       "maintaining people         -0.023834  0.017142    -0.071207        0.042643   \n",
       "\n",
       "                    age [years]  existing credits  maintaining people  \n",
       "duration [month]      -0.036136         -0.011284           -0.023834  \n",
       "amount                 0.032716          0.020795            0.017142  \n",
       "installment            0.058266          0.021669           -0.071207  \n",
       "resident since         0.266419          0.089625            0.042643  \n",
       "age [years]            1.000000          0.149254            0.118201  \n",
       "existing credits       0.149254          1.000000            0.109667  \n",
       "maintaining people     0.118201          0.109667            1.000000  "
      ]
     },
     "execution_count": 88,
     "metadata": {},
     "output_type": "execute_result"
    }
   ],
   "source": [
    "credit.corr()#zeigt die Korrelation aller intervallskalierten Variablen in einer Korrelationsmatrix"
   ]
  },
  {
   "cell_type": "code",
   "execution_count": 11,
   "metadata": {
    "scrolled": false
   },
   "outputs": [],
   "source": [
    "#Algorithmus um konkrete Korrelation zu berechnen (nicht die komplette Korrelationsmatrix)\n",
    "coors=[];\n",
    "names=[]\n",
    "correlations=[]\n",
    "for var in credit.dtypes.items():\n",
    "    if var[1].name==\"int64\":\n",
    "        \n",
    "        for othervar in credit.dtypes.items():\n",
    "            if (var[0]==othervar[0]):\n",
    "                break\n",
    "            if ((othervar[1].name==\"int64\") ):        \n",
    "                \n",
    "                correlation=credit[var[0]].corr(credit[othervar[0]])\n",
    "                #print(var[0],othervar[0],\"correl:\",correlation)\n",
    "                names.append(var[0]+\"-\"+othervar[0])\n",
    "                coors.append(correlation)\n",
    "                correlations.append([abs(correlation),correlation,var[0]+\"-\"+othervar[0]])\n",
    "                #add name and coors\n",
    "                \n",
    "\n"
   ]
  },
  {
   "cell_type": "code",
   "execution_count": 13,
   "metadata": {},
   "outputs": [
    {
     "data": {
      "image/png": "[encoded data removed]",
      "text/plain": [
       "<Figure size 432x288 with 1 Axes>"
      ]
     },
     "metadata": {
      "needs_background": "light"
     },
     "output_type": "display_data"
    }
   ],
   "source": [
    "import matplotlib.pyplot as pp\n",
    "import numpy as n\n",
    "correlations.sort(reverse=True)\n",
    "heights=[]\n",
    "labels=[]\n",
    "for i in range(10):\n",
    "    correlation=correlations[i]\n",
    "    heights.append(correlation[0])\n",
    "    labels.append(correlation[2])\n",
    "    \n",
    "figure,axis=pp.subplots()\n",
    "pp.xticks(rotation=90)\n",
    "axis.bar(x=n.arange(len(heights)),height=heights,tick_label=labels,color=\"gray\")\n",
    "axis.set_ylabel(\"Pearson Correlation\");\n"
   ]
  },
  {
   "cell_type": "markdown",
   "metadata": {},
   "source": [
    "### B Bewertung von Gruppen\n",
    "Messen Sie die stat. Abhängig von duration mit der Zielvariablen classification. Stellen Sie die Mittelwerte und Std-Abweichungen von duration getrennt nach den Ausprägungen der Zielvariablen visuell dar."
   ]
  },
  {
   "cell_type": "code",
   "execution_count": 15,
   "metadata": {},
   "outputs": [
    {
     "name": "stdout",
     "output_type": "stream",
     "text": [
      "testvariable: duration [month] tval= 6.952251 pval= 0.000000\n",
      "testvariable: amount tval= 4.947966 pval= 0.000001\n",
      "testvariable: installment tval= 2.293342 pval= 0.022035\n",
      "testvariable: resident since tval= 0.093736 pval= 0.925337\n",
      "testvariable: age [years] tval= 2.890847 pval= 0.003925\n",
      "testvariable: existing credits tval= 1.446255 pval= 0.148420\n",
      "testvariable: maintaining people tval= 0.095243 pval= 0.924141\n"
     ]
    }
   ],
   "source": [
    "from scipy.stats  import ttest_ind\n",
    "subset_good=credit[credit.classification==\"good\"]\n",
    "subset_bad=credit[credit.classification==\"bad\"]\n",
    "for testvar in credit.keys():\n",
    "    if credit.dtypes[testvar]==\"int64\": #int64 == interval scaled variable\n",
    "        tval,pval=ttest_ind(subset_good[testvar],subset_bad[testvar])\n",
    "        print(\"testvariable:\",testvar,\"tval=\",'{:f}'.format(abs(tval)),\"pval=\",'{:f}'.format(pval))\n"
   ]
  },
  {
   "cell_type": "code",
   "execution_count": 20,
   "metadata": {},
   "outputs": [
    {
     "data": {
      "text/plain": [
       "2.85"
      ]
     },
     "execution_count": 20,
     "metadata": {},
     "output_type": "execute_result"
    }
   ],
   "source": [
    "subset_bad[\"resident since\"].mean()"
   ]
  },
  {
   "cell_type": "code",
   "execution_count": 22,
   "metadata": {},
   "outputs": [
    {
     "name": "stdout",
     "output_type": "stream",
     "text": [
      "[2.842857142857143, 2.85] [[0, 0], [1.1083725362591117, 1.0946051960031329]]\n"
     ]
    },
    {
     "data": {
      "image/png": "[encoded data removed]",
      "text/plain": [
       "<Figure size 288x360 with 1 Axes>"
      ]
     },
     "metadata": {
      "needs_background": "light"
     },
     "output_type": "display_data"
    }
   ],
   "source": [
    "figure,axis=pp.subplots(figsize=(4,5))\n",
    "heights=[subset_good[\"resident since\"].mean(),subset_bad[\"resident since\"].mean()]\n",
    "stds=[[0,0],[subset_good[\"resident since\"].std(),subset_bad[\"resident since\"].std()]]\n",
    "print(heights,stds)\n",
    "axis.bar(x=n.arange(len(heights)),height=heights,tick_label=[\"good\",\"bad\"],color=\"gray\",yerr=stds,ecolor=\"gray\",width=0.4,capsize=4);"
   ]
  },
  {
   "cell_type": "code",
   "execution_count": 93,
   "metadata": {
    "scrolled": true
   },
   "outputs": [
    {
     "name": "stdout",
     "output_type": "stream",
     "text": [
      "[19.207142857142856, 24.86] [[0, 0], [11.079564266189928, 13.282638856163995]]\n"
     ]
    },
    {
     "data": {
      "image/png": "[encoded data removed]",
      "text/plain": [
       "<Figure size 288x360 with 1 Axes>"
      ]
     },
     "metadata": {
      "needs_background": "light"
     },
     "output_type": "display_data"
    }
   ],
   "source": [
    "figure,axis=pp.subplots(figsize=(4,5))\n",
    "heights=[subset_good[\"duration [month]\"].mean(),subset_bad[\"duration [month]\"].mean()]\n",
    "stds=[[0,0],[subset_good[\"duration [month]\"].std(),subset_bad[\"duration [month]\"].std()]]\n",
    "print(heights,stds)\n",
    "axis.bar(x=n.arange(len(heights)),height=heights,tick_label=[\"good\",\"bad\"],color=\"gray\",yerr=stds,ecolor=\"gray\",width=0.4,capsize=4)\n",
    "axis.set_ylabel(\"Mean duration in Months\");\n",
    "axis.set_xlabel(\"Classification of credit\");\n"
   ]
  },
  {
   "cell_type": "markdown",
   "metadata": {},
   "source": [
    "good: $\\mu=19.2 \\pm \\sigma=11.1$ Monate  bad: $\\mu=24.8 \\pm \\sigma=13.3$ Monate"
   ]
  },
  {
   "cell_type": "markdown",
   "metadata": {},
   "source": [
    "### C Bewertung kategorischer Variablen\n",
    "Geben Sie die Kontingenztabelle von i) checking account vs classification und ii) job vs classification mitsamt X²-Wert und p-Wert an. Welche Aussage kann aus dem p-Wert und der Kontingenztabelle abgeleitet werden?"
   ]
  },
  {
   "cell_type": "code",
   "execution_count": 78,
   "metadata": {},
   "outputs": [],
   "source": [
    "def chisquare(varname):\n",
    "    contingencyTable=p.crosstab(credit[varname],credit.classification)\n",
    "    chi2,pval,dof,expectedFreq=chi2_contingency(contingencyTable)\n",
    "    print(\"\\n\\ntestvar:\",varname,\"chi2=\",chi2,\"pval=\",'{:f}'.format(pval),\"dof=\",dof)#show pval in non-scienetific expression\n",
    "    return contingencyTable"
   ]
  },
  {
   "cell_type": "code",
   "execution_count": 79,
   "metadata": {
    "scrolled": false
   },
   "outputs": [
    {
     "name": "stdout",
     "output_type": "stream",
     "text": [
      "\n",
      "\n",
      "testvar: job chi2= 1.8851560280131707 pval= 0.596582 dof= 3\n"
     ]
    },
    {
     "data": {
      "text/html": [
       "<div>\n",
       "<style scoped>\n",
       "    .dataframe tbody tr th:only-of-type {\n",
       "        vertical-align: middle;\n",
       "    }\n",
       "\n",
       "    .dataframe tbody tr th {\n",
       "        vertical-align: top;\n",
       "    }\n",
       "\n",
       "    .dataframe thead th {\n",
       "        text-align: right;\n",
       "    }\n",
       "</style>\n",
       "<table border=\"1\" class=\"dataframe\">\n",
       "  <thead>\n",
       "    <tr style=\"text-align: right;\">\n",
       "      <th>classification</th>\n",
       "      <th>bad</th>\n",
       "      <th>good</th>\n",
       "    </tr>\n",
       "    <tr>\n",
       "      <th>job</th>\n",
       "      <th></th>\n",
       "      <th></th>\n",
       "    </tr>\n",
       "  </thead>\n",
       "  <tbody>\n",
       "    <tr>\n",
       "      <th>A171</th>\n",
       "      <td>7</td>\n",
       "      <td>15</td>\n",
       "    </tr>\n",
       "    <tr>\n",
       "      <th>A172</th>\n",
       "      <td>56</td>\n",
       "      <td>144</td>\n",
       "    </tr>\n",
       "    <tr>\n",
       "      <th>A173</th>\n",
       "      <td>186</td>\n",
       "      <td>444</td>\n",
       "    </tr>\n",
       "    <tr>\n",
       "      <th>A174</th>\n",
       "      <td>51</td>\n",
       "      <td>97</td>\n",
       "    </tr>\n",
       "  </tbody>\n",
       "</table>\n",
       "</div>"
      ],
      "text/plain": [
       "classification  bad  good\n",
       "job                      \n",
       "A171              7    15\n",
       "A172             56   144\n",
       "A173            186   444\n",
       "A174             51    97"
      ]
     },
     "execution_count": 79,
     "metadata": {},
     "output_type": "execute_result"
    }
   ],
   "source": [
    "chisquare(\"job\")"
   ]
  },
  {
   "cell_type": "code",
   "execution_count": 80,
   "metadata": {},
   "outputs": [
    {
     "name": "stdout",
     "output_type": "stream",
     "text": [
      "\n",
      "\n",
      "testvar: checking account chi2= 123.72094351626559 pval= 0.000000 dof= 3\n"
     ]
    },
    {
     "data": {
      "text/html": [
       "<div>\n",
       "<style scoped>\n",
       "    .dataframe tbody tr th:only-of-type {\n",
       "        vertical-align: middle;\n",
       "    }\n",
       "\n",
       "    .dataframe tbody tr th {\n",
       "        vertical-align: top;\n",
       "    }\n",
       "\n",
       "    .dataframe thead th {\n",
       "        text-align: right;\n",
       "    }\n",
       "</style>\n",
       "<table border=\"1\" class=\"dataframe\">\n",
       "  <thead>\n",
       "    <tr style=\"text-align: right;\">\n",
       "      <th>classification</th>\n",
       "      <th>bad</th>\n",
       "      <th>good</th>\n",
       "    </tr>\n",
       "    <tr>\n",
       "      <th>checking account</th>\n",
       "      <th></th>\n",
       "      <th></th>\n",
       "    </tr>\n",
       "  </thead>\n",
       "  <tbody>\n",
       "    <tr>\n",
       "      <th>A11</th>\n",
       "      <td>135</td>\n",
       "      <td>139</td>\n",
       "    </tr>\n",
       "    <tr>\n",
       "      <th>A12</th>\n",
       "      <td>105</td>\n",
       "      <td>164</td>\n",
       "    </tr>\n",
       "    <tr>\n",
       "      <th>A13</th>\n",
       "      <td>14</td>\n",
       "      <td>49</td>\n",
       "    </tr>\n",
       "    <tr>\n",
       "      <th>A14</th>\n",
       "      <td>46</td>\n",
       "      <td>348</td>\n",
       "    </tr>\n",
       "  </tbody>\n",
       "</table>\n",
       "</div>"
      ],
      "text/plain": [
       "classification    bad  good\n",
       "checking account           \n",
       "A11               135   139\n",
       "A12               105   164\n",
       "A13                14    49\n",
       "A14                46   348"
      ]
     },
     "execution_count": 80,
     "metadata": {},
     "output_type": "execute_result"
    }
   ],
   "source": [
    "chisquare(\"checking account\")"
   ]
  }
 ],
 "metadata": {
  "kernelspec": {
   "display_name": "Python 3",
   "language": "python",
   "name": "python3"
  },
  "language_info": {
   "codemirror_mode": {
    "name": "ipython",
    "version": 3
   },
   "file_extension": ".py",
   "mimetype": "text/x-python",
   "name": "python",
   "nbconvert_exporter": "python",
   "pygments_lexer": "ipython3",
   "version": "3.7.7"
  }
 },
 "nbformat": 4,
 "nbformat_minor": 4
}
